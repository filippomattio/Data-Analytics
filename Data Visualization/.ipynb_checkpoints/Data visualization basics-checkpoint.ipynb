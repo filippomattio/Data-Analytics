{
 "cells": [
  {
   "cell_type": "markdown",
   "metadata": {},
   "source": [
    "<h1>Visualizing data using python</h1>\n",
    "<li><b>matplotlib</b>: basic python library for plots\n",
    "<li><b>seaborn</b>: built on matplotlib. provides a high level interface for graphs\n",
    "<li><b>geospatial maps</b>: interactive mapping. \n",
    "<li><b>highcharts</b>\n",
    "<li><b>plot.ly</b>\n",
    "<li><b>bokeh</b>"
   ]
  },
  {
   "cell_type": "markdown",
   "metadata": {},
   "source": [
    "<h1>Data setup</h1>\n",
    "<li>Use our function to read the data file</li>"
   ]
  },
  {
   "cell_type": "code",
   "execution_count": 1,
   "metadata": {},
   "outputs": [],
   "source": [
    "def read_311_data(datafile):\n",
    "    import pandas as pd\n",
    "    import numpy as np\n",
    "    \n",
    "    #Add the fix_zip function\n",
    "    def fix_zip(input_zip):\n",
    "        try:\n",
    "            input_zip = int(float(input_zip))\n",
    "        except:\n",
    "            try:\n",
    "                input_zip = int(input_zip.split('-')[0])\n",
    "            except:\n",
    "                return np.NaN\n",
    "        if input_zip < 10000 or input_zip > 19999:\n",
    "            return np.NaN\n",
    "        return str(input_zip)\n",
    "    \n",
    "    #Read the file\n",
    "    df = pd.read_csv(datafile,index_col='Unique Key')\n",
    "    \n",
    "    #fix the zip\n",
    "    df['Incident Zip'] = df['Incident Zip'].apply(fix_zip)\n",
    "    \n",
    "    #drop all rows that have any nans in them (note the easier syntax!)\n",
    "    \n",
    "    df = df.dropna(how='any')\n",
    "    \n",
    "    #get rid of unspecified boroughs\n",
    "    df = df[df['Borough'] != 'Unspecified']\n",
    "    \n",
    "    #Convert times to datetime and create a processing time column\n",
    "    \n",
    "    import datetime\n",
    "    df['Created Date'] = df['Created Date'].apply(lambda x:datetime.datetime.strptime(x,'%m/%d/%Y %I:%M:%S %p'))\n",
    "    df['Closed Date'] = df['Closed Date'].apply(lambda x:datetime.datetime.strptime(x,'%m/%d/%Y %I:%M:%S %p'))\n",
    "    df['processing_time'] =  df['Closed Date'] - df['Created Date']\n",
    "    \n",
    "    #Finally, get rid of negative processing times and return the final data frame\n",
    "    \n",
    "    df = df[df['processing_time']>=datetime.timedelta(0,0,0)]\n",
    "    \n",
    "    return df\n",
    "    "
   ]
  },
  {
   "cell_type": "code",
   "execution_count": 2,
   "metadata": {},
   "outputs": [
    {
     "name": "stderr",
     "output_type": "stream",
     "text": [
      "/var/folders/q9/2zkt25jx6bv5z4wr2x1dljpw0000gn/T/ipykernel_33258/3389003523.py:19: DtypeWarning: Columns (4) have mixed types. Specify dtype option on import or set low_memory=False.\n",
      "  df = pd.read_csv(datafile,index_col='Unique Key')\n"
     ]
    }
   ],
   "source": [
    "datafile = \"nyc_311_data_subset_small.csv\"\n",
    "df = read_311_data(datafile)"
   ]
  },
  {
   "cell_type": "code",
   "execution_count": 3,
   "metadata": {},
   "outputs": [
    {
     "name": "stdout",
     "output_type": "stream",
     "text": [
      "<class 'pandas.core.frame.DataFrame'>\n",
      "Int64Index: 799323 entries, 11 to 971063\n",
      "Data columns (total 8 columns):\n",
      " #   Column           Non-Null Count   Dtype          \n",
      "---  ------           --------------   -----          \n",
      " 0   Created Date     799323 non-null  datetime64[ns] \n",
      " 1   Closed Date      799323 non-null  datetime64[ns] \n",
      " 2   Agency           799323 non-null  object         \n",
      " 3   Incident Zip     799323 non-null  object         \n",
      " 4   Borough          799323 non-null  object         \n",
      " 5   Latitude         799323 non-null  float64        \n",
      " 6   Longitude        799323 non-null  float64        \n",
      " 7   processing_time  799323 non-null  timedelta64[ns]\n",
      "dtypes: datetime64[ns](2), float64(2), object(3), timedelta64[ns](1)\n",
      "memory usage: 54.9+ MB\n"
     ]
    }
   ],
   "source": [
    "df.info()"
   ]
  },
  {
   "cell_type": "markdown",
   "metadata": {},
   "source": [
    "<h1>Quick visual: Heatmap on google maps</h1>\n",
    "<li>gmplot library\n",
    "<li>https://github.com/vgm64/gmplot"
   ]
  },
  {
   "cell_type": "code",
   "execution_count": 4,
   "metadata": {},
   "outputs": [
    {
     "name": "stdout",
     "output_type": "stream",
     "text": [
      "Requirement already satisfied: gmplot in /Users/umenon/opt/anaconda3/envs/data-analytics/lib/python3.9/site-packages (1.4.1)\n",
      "Requirement already satisfied: requests in /Users/umenon/opt/anaconda3/envs/data-analytics/lib/python3.9/site-packages (from gmplot) (2.26.0)\n",
      "Requirement already satisfied: urllib3<1.27,>=1.21.1 in /Users/umenon/opt/anaconda3/envs/data-analytics/lib/python3.9/site-packages (from requests->gmplot) (1.26.7)\n",
      "Requirement already satisfied: charset-normalizer~=2.0.0 in /Users/umenon/opt/anaconda3/envs/data-analytics/lib/python3.9/site-packages (from requests->gmplot) (2.0.4)\n",
      "Requirement already satisfied: certifi>=2017.4.17 in /Users/umenon/opt/anaconda3/envs/data-analytics/lib/python3.9/site-packages (from requests->gmplot) (2021.10.8)\n",
      "Requirement already satisfied: idna<4,>=2.5 in /Users/umenon/opt/anaconda3/envs/data-analytics/lib/python3.9/site-packages (from requests->gmplot) (3.2)\n"
     ]
    }
   ],
   "source": [
    "!pip install gmplot --upgrade"
   ]
  },
  {
   "cell_type": "markdown",
   "metadata": {},
   "source": [
    "<h4>Construct a heatmap showing the relative concentration of complaints in NYC</h4>\n",
    "<li>Add a point for each latitude and longitude pair\n",
    "<li>The color density increases as the concentration of points increases\n"
   ]
  },
  {
   "cell_type": "markdown",
   "metadata": {},
   "source": [
    "<h3>Set up the map</h3>\n",
    "<h4>GoogleMapPlotter constructor</h4>\n",
    "<ul>\n",
    "<li>Centers a google map at a location\n",
    "<ul>\n",
    "<li><b>Using latitude and longitude</b>: GoogleMapPlotter(center_lat, center_lng, zoom)\n",
    "<li><b>Using a place locator</b>: from_geocode(location_string,zoom)\n"
   ]
  },
  {
   "cell_type": "code",
   "execution_count": 60,
   "metadata": {},
   "outputs": [],
   "source": [
    "# with open(\"/home/uday/Documents/Columbia_University/API_Keys/geocoding_key.txt\",'r') as f:\n",
    "#     api_key = f.read().strip()\n",
    "with open(\"/Users/umenon/Documents/Columbia_University/API_Keys/maps_key.txt\",'r') as f:\n",
    "    api_key = f.read().strip()\n"
   ]
  },
  {
   "cell_type": "code",
   "execution_count": 63,
   "metadata": {},
   "outputs": [],
   "source": [
    "%matplotlib inline\n",
    "import gmplot\n",
    "gmap = gmplot.GoogleMapPlotter(40.7128, -74.0059, 10)\n",
    "gmap = gmplot.GoogleMapPlotter.from_geocode(\"New York\",10,api_key)"
   ]
  },
  {
   "cell_type": "markdown",
   "metadata": {},
   "source": [
    "<h3>Generate the heatmap using latitudes and longitudes</h3>"
   ]
  },
  {
   "cell_type": "code",
   "execution_count": 64,
   "metadata": {},
   "outputs": [],
   "source": [
    "#Then generate a heatmap using the latitudes and longitudes\n",
    "gmap.heatmap(df['Latitude'], df['Longitude'])"
   ]
  },
  {
   "cell_type": "markdown",
   "metadata": {},
   "source": [
    "<h3>Save the heatmap to an html file</h3>\n",
    "<h4>The html file can be viewed, printed, or included in another html page</h4>\n",
    "<h4>Or loaded into a Jupyter notebook</h4>"
   ]
  },
  {
   "cell_type": "code",
   "execution_count": 9,
   "metadata": {},
   "outputs": [
    {
     "data": {
      "text/plain": [
       "<gmplot.gmplot.GoogleMapPlotter at 0x7fbe65143f40>"
      ]
     },
     "execution_count": 9,
     "metadata": {},
     "output_type": "execute_result"
    }
   ],
   "source": [
    "gmap"
   ]
  },
  {
   "cell_type": "code",
   "execution_count": 65,
   "metadata": {},
   "outputs": [],
   "source": [
    "gmap.draw('incidents3.html')"
   ]
  },
  {
   "cell_type": "code",
   "execution_count": 66,
   "metadata": {},
   "outputs": [
    {
     "data": {
      "text/html": [
       "\n",
       "        <iframe\n",
       "            width=\"990\"\n",
       "            height=\"500\"\n",
       "            src=\"./incidents3.html\"\n",
       "            frameborder=\"0\"\n",
       "            allowfullscreen\n",
       "            \n",
       "        ></iframe>\n",
       "        "
      ],
      "text/plain": [
       "<IPython.lib.display.IFrame at 0x7fbe64f2f6d0>"
      ]
     },
     "execution_count": 66,
     "metadata": {},
     "output_type": "execute_result"
    }
   ],
   "source": [
    "from IPython.display import IFrame\n",
    "\n",
    "# display(IFrame(\"./incidents3.html\", width=990, height=500))\n",
    "IFrame(\"./incidents3.html\", width=990, height=500)\n",
    "\n"
   ]
  },
  {
   "cell_type": "markdown",
   "metadata": {},
   "source": [
    "<li>heatmaps are easy!</li>"
   ]
  },
  {
   "cell_type": "markdown",
   "metadata": {},
   "source": [
    "<h2>Plots based on grouped data</h2>\n",
    "<li>Get imports and use matplotlib inline\n",
    "<li>We'll use seaborn style charts (more professional looking). But, you don't have to!"
   ]
  },
  {
   "cell_type": "code",
   "execution_count": 12,
   "metadata": {},
   "outputs": [],
   "source": [
    "%matplotlib inline\n",
    "import matplotlib.pyplot as plt\n",
    "plt.style.use('seaborn')"
   ]
  },
  {
   "cell_type": "markdown",
   "metadata": {},
   "source": [
    "<h2>Incidents by Borough</h2>\n",
    "<li>Group data by borough\n",
    "<li>Plot the number of incidents by borough"
   ]
  },
  {
   "cell_type": "code",
   "execution_count": 13,
   "metadata": {},
   "outputs": [
    {
     "data": {
      "text/plain": [
       "<AxesSubplot:xlabel='Borough'>"
      ]
     },
     "execution_count": 13,
     "metadata": {},
     "output_type": "execute_result"
    },
    {
     "data": {
      "image/png": "[encoded data removed]",
      "text/plain": [
       "<Figure size 576x396 with 1 Axes>"
      ]
     },
     "metadata": {},
     "output_type": "display_data"
    }
   ],
   "source": [
    "borough_group = df.groupby('Borough')\n",
    "colors = ['r','g','b','y','c']\n",
    "borough_group.size().plot(kind='bar',color=colors)"
   ]
  },
  {
   "cell_type": "code",
   "execution_count": 14,
   "metadata": {},
   "outputs": [
    {
     "data": {
      "text/plain": [
       "pandas.core.series.Series"
      ]
     },
     "execution_count": 14,
     "metadata": {},
     "output_type": "execute_result"
    }
   ],
   "source": [
    "type(borough_group.size())"
   ]
  },
  {
   "cell_type": "markdown",
   "metadata": {},
   "source": [
    "<h1>Incidents by Agency</h1>"
   ]
  },
  {
   "cell_type": "code",
   "execution_count": 15,
   "metadata": {},
   "outputs": [
    {
     "data": {
      "text/plain": [
       "<AxesSubplot:xlabel='Agency'>"
      ]
     },
     "execution_count": 15,
     "metadata": {},
     "output_type": "execute_result"
    },
    {
     "data": {
      "image/png": "[encoded data removed]",
      "text/plain": [
       "<Figure size 576x396 with 1 Axes>"
      ]
     },
     "metadata": {},
     "output_type": "display_data"
    }
   ],
   "source": [
    "\n",
    "agency_group = df.groupby('Agency')\n",
    "agency_group.size().plot(kind='bar')"
   ]
  },
  {
   "cell_type": "markdown",
   "metadata": {},
   "source": [
    "<h2>Let's combine the two in a single graph</h2>\n"
   ]
  },
  {
   "cell_type": "code",
   "execution_count": 16,
   "metadata": {},
   "outputs": [
    {
     "data": {
      "text/plain": [
       "<AxesSubplot:xlabel='Agency,Borough'>"
      ]
     },
     "execution_count": 16,
     "metadata": {},
     "output_type": "execute_result"
    },
    {
     "data": {
      "image/png": "[encoded data removed]",
      "text/plain": [
       "<Figure size 576x396 with 1 Axes>"
      ]
     },
     "metadata": {},
     "output_type": "display_data"
    }
   ],
   "source": [
    "\n",
    "agency_borough = df.groupby(['Agency','Borough'])\n",
    "agency_borough.size().plot(kind='bar')\n"
   ]
  },
  {
   "cell_type": "code",
   "execution_count": 17,
   "metadata": {},
   "outputs": [
    {
     "data": {
      "text/plain": [
       "Agency  Borough      \n",
       "3-1-1   BRONX              17\n",
       "        BROOKLYN           28\n",
       "        MANHATTAN          23\n",
       "        QUEENS             28\n",
       "        STATEN ISLAND       6\n",
       "                         ... \n",
       "TLC     BRONX             318\n",
       "        BROOKLYN         1238\n",
       "        MANHATTAN        4393\n",
       "        QUEENS           1146\n",
       "        STATEN ISLAND      34\n",
       "Length: 89, dtype: int64"
      ]
     },
     "execution_count": 17,
     "metadata": {},
     "output_type": "execute_result"
    }
   ],
   "source": [
    "agency_borough.size()"
   ]
  },
  {
   "cell_type": "code",
   "execution_count": 18,
   "metadata": {},
   "outputs": [
    {
     "data": {
      "text/html": [
       "<div>\n",
       "<style scoped>\n",
       "    .dataframe tbody tr th:only-of-type {\n",
       "        vertical-align: middle;\n",
       "    }\n",
       "\n",
       "    .dataframe tbody tr th {\n",
       "        vertical-align: top;\n",
       "    }\n",
       "\n",
       "    .dataframe thead th {\n",
       "        text-align: right;\n",
       "    }\n",
       "</style>\n",
       "<table border=\"1\" class=\"dataframe\">\n",
       "  <thead>\n",
       "    <tr style=\"text-align: right;\">\n",
       "      <th>Borough</th>\n",
       "      <th>BRONX</th>\n",
       "      <th>BROOKLYN</th>\n",
       "      <th>MANHATTAN</th>\n",
       "      <th>QUEENS</th>\n",
       "      <th>STATEN ISLAND</th>\n",
       "    </tr>\n",
       "    <tr>\n",
       "      <th>Agency</th>\n",
       "      <th></th>\n",
       "      <th></th>\n",
       "      <th></th>\n",
       "      <th></th>\n",
       "      <th></th>\n",
       "    </tr>\n",
       "  </thead>\n",
       "  <tbody>\n",
       "    <tr>\n",
       "      <th>3-1-1</th>\n",
       "      <td>17.0</td>\n",
       "      <td>28.0</td>\n",
       "      <td>23.0</td>\n",
       "      <td>28.0</td>\n",
       "      <td>6.0</td>\n",
       "    </tr>\n",
       "    <tr>\n",
       "      <th>DCA</th>\n",
       "      <td>958.0</td>\n",
       "      <td>1532.0</td>\n",
       "      <td>1529.0</td>\n",
       "      <td>1547.0</td>\n",
       "      <td>194.0</td>\n",
       "    </tr>\n",
       "    <tr>\n",
       "      <th>DEP</th>\n",
       "      <td>5837.0</td>\n",
       "      <td>17917.0</td>\n",
       "      <td>17315.0</td>\n",
       "      <td>15216.0</td>\n",
       "      <td>4061.0</td>\n",
       "    </tr>\n",
       "    <tr>\n",
       "      <th>DFTA</th>\n",
       "      <td>21.0</td>\n",
       "      <td>33.0</td>\n",
       "      <td>24.0</td>\n",
       "      <td>21.0</td>\n",
       "      <td>2.0</td>\n",
       "    </tr>\n",
       "    <tr>\n",
       "      <th>DHS</th>\n",
       "      <td>397.0</td>\n",
       "      <td>1130.0</td>\n",
       "      <td>12767.0</td>\n",
       "      <td>734.0</td>\n",
       "      <td>55.0</td>\n",
       "    </tr>\n",
       "    <tr>\n",
       "      <th>DOB</th>\n",
       "      <td>5160.0</td>\n",
       "      <td>10993.0</td>\n",
       "      <td>6507.0</td>\n",
       "      <td>10567.0</td>\n",
       "      <td>1594.0</td>\n",
       "    </tr>\n",
       "    <tr>\n",
       "      <th>DOE</th>\n",
       "      <td>129.0</td>\n",
       "      <td>127.0</td>\n",
       "      <td>49.0</td>\n",
       "      <td>136.0</td>\n",
       "      <td>13.0</td>\n",
       "    </tr>\n",
       "    <tr>\n",
       "      <th>DOF</th>\n",
       "      <td>143.0</td>\n",
       "      <td>161.0</td>\n",
       "      <td>153.0</td>\n",
       "      <td>112.0</td>\n",
       "      <td>10.0</td>\n",
       "    </tr>\n",
       "    <tr>\n",
       "      <th>DOHMH</th>\n",
       "      <td>2406.0</td>\n",
       "      <td>4481.0</td>\n",
       "      <td>3759.0</td>\n",
       "      <td>2814.0</td>\n",
       "      <td>728.0</td>\n",
       "    </tr>\n",
       "    <tr>\n",
       "      <th>DOITT</th>\n",
       "      <td>7.0</td>\n",
       "      <td>18.0</td>\n",
       "      <td>91.0</td>\n",
       "      <td>18.0</td>\n",
       "      <td>NaN</td>\n",
       "    </tr>\n",
       "    <tr>\n",
       "      <th>DOT</th>\n",
       "      <td>8682.0</td>\n",
       "      <td>19176.0</td>\n",
       "      <td>9673.0</td>\n",
       "      <td>22096.0</td>\n",
       "      <td>6551.0</td>\n",
       "    </tr>\n",
       "    <tr>\n",
       "      <th>DPR</th>\n",
       "      <td>1416.0</td>\n",
       "      <td>2929.0</td>\n",
       "      <td>1103.0</td>\n",
       "      <td>3897.0</td>\n",
       "      <td>1485.0</td>\n",
       "    </tr>\n",
       "    <tr>\n",
       "      <th>DSNY</th>\n",
       "      <td>6406.0</td>\n",
       "      <td>22208.0</td>\n",
       "      <td>6079.0</td>\n",
       "      <td>18125.0</td>\n",
       "      <td>10503.0</td>\n",
       "    </tr>\n",
       "    <tr>\n",
       "      <th>EDC</th>\n",
       "      <td>1.0</td>\n",
       "      <td>62.0</td>\n",
       "      <td>41.0</td>\n",
       "      <td>15.0</td>\n",
       "      <td>4.0</td>\n",
       "    </tr>\n",
       "    <tr>\n",
       "      <th>FDNY</th>\n",
       "      <td>39.0</td>\n",
       "      <td>127.0</td>\n",
       "      <td>1344.0</td>\n",
       "      <td>158.0</td>\n",
       "      <td>8.0</td>\n",
       "    </tr>\n",
       "    <tr>\n",
       "      <th>HPD</th>\n",
       "      <td>77774.0</td>\n",
       "      <td>81382.0</td>\n",
       "      <td>51017.0</td>\n",
       "      <td>31080.0</td>\n",
       "      <td>3562.0</td>\n",
       "    </tr>\n",
       "    <tr>\n",
       "      <th>NYPD</th>\n",
       "      <td>48837.0</td>\n",
       "      <td>88973.0</td>\n",
       "      <td>55841.0</td>\n",
       "      <td>69931.0</td>\n",
       "      <td>10101.0</td>\n",
       "    </tr>\n",
       "    <tr>\n",
       "      <th>TLC</th>\n",
       "      <td>318.0</td>\n",
       "      <td>1238.0</td>\n",
       "      <td>4393.0</td>\n",
       "      <td>1146.0</td>\n",
       "      <td>34.0</td>\n",
       "    </tr>\n",
       "  </tbody>\n",
       "</table>\n",
       "</div>"
      ],
      "text/plain": [
       "Borough    BRONX  BROOKLYN  MANHATTAN   QUEENS  STATEN ISLAND\n",
       "Agency                                                       \n",
       "3-1-1       17.0      28.0       23.0     28.0            6.0\n",
       "DCA        958.0    1532.0     1529.0   1547.0          194.0\n",
       "DEP       5837.0   17917.0    17315.0  15216.0         4061.0\n",
       "DFTA        21.0      33.0       24.0     21.0            2.0\n",
       "DHS        397.0    1130.0    12767.0    734.0           55.0\n",
       "DOB       5160.0   10993.0     6507.0  10567.0         1594.0\n",
       "DOE        129.0     127.0       49.0    136.0           13.0\n",
       "DOF        143.0     161.0      153.0    112.0           10.0\n",
       "DOHMH     2406.0    4481.0     3759.0   2814.0          728.0\n",
       "DOITT        7.0      18.0       91.0     18.0            NaN\n",
       "DOT       8682.0   19176.0     9673.0  22096.0         6551.0\n",
       "DPR       1416.0    2929.0     1103.0   3897.0         1485.0\n",
       "DSNY      6406.0   22208.0     6079.0  18125.0        10503.0\n",
       "EDC          1.0      62.0       41.0     15.0            4.0\n",
       "FDNY        39.0     127.0     1344.0    158.0            8.0\n",
       "HPD      77774.0   81382.0    51017.0  31080.0         3562.0\n",
       "NYPD     48837.0   88973.0    55841.0  69931.0        10101.0\n",
       "TLC        318.0    1238.0     4393.0   1146.0           34.0"
      ]
     },
     "execution_count": 18,
     "metadata": {},
     "output_type": "execute_result"
    }
   ],
   "source": [
    "agency_borough.size().unstack()"
   ]
  },
  {
   "cell_type": "markdown",
   "metadata": {},
   "source": [
    "<h2>This is quite unreadable and pointless!</h2>"
   ]
  },
  {
   "cell_type": "markdown",
   "metadata": {},
   "source": [
    "<h3>We can unstack the groups so that we get borough by agency</h3>\n",
    "<li>Unstacking groups the data into a 2 level index\n",
    "<li>First agency, then borough"
   ]
  },
  {
   "cell_type": "code",
   "execution_count": 19,
   "metadata": {},
   "outputs": [
    {
     "data": {
      "text/plain": [
       "<AxesSubplot:xlabel='Agency'>"
      ]
     },
     "execution_count": 19,
     "metadata": {},
     "output_type": "execute_result"
    },
    {
     "data": {
      "image/png": "[encoded data removed]",
      "text/plain": [
       "<Figure size 576x396 with 1 Axes>"
      ]
     },
     "metadata": {},
     "output_type": "display_data"
    }
   ],
   "source": [
    "agency_borough.size().unstack().plot(kind='bar')"
   ]
  },
  {
   "cell_type": "code",
   "execution_count": null,
   "metadata": {},
   "outputs": [],
   "source": []
  },
  {
   "cell_type": "markdown",
   "metadata": {},
   "source": [
    "<h3>Increase the size of the image and add a title</h3>"
   ]
  },
  {
   "cell_type": "code",
   "execution_count": 20,
   "metadata": {},
   "outputs": [
    {
     "data": {
      "text/plain": [
       "<AxesSubplot:title={'center':'Incidents in each Agency by Borough'}, xlabel='Agency'>"
      ]
     },
     "execution_count": 20,
     "metadata": {},
     "output_type": "execute_result"
    },
    {
     "data": {
      "image/png": "[encoded data removed]",
      "text/plain": [
       "<Figure size 864x864 with 1 Axes>"
      ]
     },
     "metadata": {},
     "output_type": "display_data"
    }
   ],
   "source": [
    "\n",
    "agency_borough = df.groupby(['Agency','Borough'])\n",
    "agency_borough.size().unstack().plot(kind='bar',title=\"Incidents in each Agency by Borough\",figsize=(12,12))\n"
   ]
  },
  {
   "cell_type": "code",
   "execution_count": 21,
   "metadata": {},
   "outputs": [
    {
     "data": {
      "text/html": [
       "<div>\n",
       "<style scoped>\n",
       "    .dataframe tbody tr th:only-of-type {\n",
       "        vertical-align: middle;\n",
       "    }\n",
       "\n",
       "    .dataframe tbody tr th {\n",
       "        vertical-align: top;\n",
       "    }\n",
       "\n",
       "    .dataframe thead th {\n",
       "        text-align: right;\n",
       "    }\n",
       "</style>\n",
       "<table border=\"1\" class=\"dataframe\">\n",
       "  <thead>\n",
       "    <tr style=\"text-align: right;\">\n",
       "      <th>Borough</th>\n",
       "      <th>BRONX</th>\n",
       "      <th>BROOKLYN</th>\n",
       "      <th>MANHATTAN</th>\n",
       "      <th>QUEENS</th>\n",
       "      <th>STATEN ISLAND</th>\n",
       "    </tr>\n",
       "    <tr>\n",
       "      <th>Agency</th>\n",
       "      <th></th>\n",
       "      <th></th>\n",
       "      <th></th>\n",
       "      <th></th>\n",
       "      <th></th>\n",
       "    </tr>\n",
       "  </thead>\n",
       "  <tbody>\n",
       "    <tr>\n",
       "      <th>3-1-1</th>\n",
       "      <td>17.0</td>\n",
       "      <td>28.0</td>\n",
       "      <td>23.0</td>\n",
       "      <td>28.0</td>\n",
       "      <td>6.0</td>\n",
       "    </tr>\n",
       "    <tr>\n",
       "      <th>DCA</th>\n",
       "      <td>958.0</td>\n",
       "      <td>1532.0</td>\n",
       "      <td>1529.0</td>\n",
       "      <td>1547.0</td>\n",
       "      <td>194.0</td>\n",
       "    </tr>\n",
       "    <tr>\n",
       "      <th>DEP</th>\n",
       "      <td>5837.0</td>\n",
       "      <td>17917.0</td>\n",
       "      <td>17315.0</td>\n",
       "      <td>15216.0</td>\n",
       "      <td>4061.0</td>\n",
       "    </tr>\n",
       "    <tr>\n",
       "      <th>DFTA</th>\n",
       "      <td>21.0</td>\n",
       "      <td>33.0</td>\n",
       "      <td>24.0</td>\n",
       "      <td>21.0</td>\n",
       "      <td>2.0</td>\n",
       "    </tr>\n",
       "    <tr>\n",
       "      <th>DHS</th>\n",
       "      <td>397.0</td>\n",
       "      <td>1130.0</td>\n",
       "      <td>12767.0</td>\n",
       "      <td>734.0</td>\n",
       "      <td>55.0</td>\n",
       "    </tr>\n",
       "    <tr>\n",
       "      <th>DOB</th>\n",
       "      <td>5160.0</td>\n",
       "      <td>10993.0</td>\n",
       "      <td>6507.0</td>\n",
       "      <td>10567.0</td>\n",
       "      <td>1594.0</td>\n",
       "    </tr>\n",
       "    <tr>\n",
       "      <th>DOE</th>\n",
       "      <td>129.0</td>\n",
       "      <td>127.0</td>\n",
       "      <td>49.0</td>\n",
       "      <td>136.0</td>\n",
       "      <td>13.0</td>\n",
       "    </tr>\n",
       "    <tr>\n",
       "      <th>DOF</th>\n",
       "      <td>143.0</td>\n",
       "      <td>161.0</td>\n",
       "      <td>153.0</td>\n",
       "      <td>112.0</td>\n",
       "      <td>10.0</td>\n",
       "    </tr>\n",
       "    <tr>\n",
       "      <th>DOHMH</th>\n",
       "      <td>2406.0</td>\n",
       "      <td>4481.0</td>\n",
       "      <td>3759.0</td>\n",
       "      <td>2814.0</td>\n",
       "      <td>728.0</td>\n",
       "    </tr>\n",
       "    <tr>\n",
       "      <th>DOITT</th>\n",
       "      <td>7.0</td>\n",
       "      <td>18.0</td>\n",
       "      <td>91.0</td>\n",
       "      <td>18.0</td>\n",
       "      <td>NaN</td>\n",
       "    </tr>\n",
       "    <tr>\n",
       "      <th>DOT</th>\n",
       "      <td>8682.0</td>\n",
       "      <td>19176.0</td>\n",
       "      <td>9673.0</td>\n",
       "      <td>22096.0</td>\n",
       "      <td>6551.0</td>\n",
       "    </tr>\n",
       "    <tr>\n",
       "      <th>DPR</th>\n",
       "      <td>1416.0</td>\n",
       "      <td>2929.0</td>\n",
       "      <td>1103.0</td>\n",
       "      <td>3897.0</td>\n",
       "      <td>1485.0</td>\n",
       "    </tr>\n",
       "    <tr>\n",
       "      <th>DSNY</th>\n",
       "      <td>6406.0</td>\n",
       "      <td>22208.0</td>\n",
       "      <td>6079.0</td>\n",
       "      <td>18125.0</td>\n",
       "      <td>10503.0</td>\n",
       "    </tr>\n",
       "    <tr>\n",
       "      <th>EDC</th>\n",
       "      <td>1.0</td>\n",
       "      <td>62.0</td>\n",
       "      <td>41.0</td>\n",
       "      <td>15.0</td>\n",
       "      <td>4.0</td>\n",
       "    </tr>\n",
       "    <tr>\n",
       "      <th>FDNY</th>\n",
       "      <td>39.0</td>\n",
       "      <td>127.0</td>\n",
       "      <td>1344.0</td>\n",
       "      <td>158.0</td>\n",
       "      <td>8.0</td>\n",
       "    </tr>\n",
       "    <tr>\n",
       "      <th>HPD</th>\n",
       "      <td>77774.0</td>\n",
       "      <td>81382.0</td>\n",
       "      <td>51017.0</td>\n",
       "      <td>31080.0</td>\n",
       "      <td>3562.0</td>\n",
       "    </tr>\n",
       "    <tr>\n",
       "      <th>NYPD</th>\n",
       "      <td>48837.0</td>\n",
       "      <td>88973.0</td>\n",
       "      <td>55841.0</td>\n",
       "      <td>69931.0</td>\n",
       "      <td>10101.0</td>\n",
       "    </tr>\n",
       "    <tr>\n",
       "      <th>TLC</th>\n",
       "      <td>318.0</td>\n",
       "      <td>1238.0</td>\n",
       "      <td>4393.0</td>\n",
       "      <td>1146.0</td>\n",
       "      <td>34.0</td>\n",
       "    </tr>\n",
       "  </tbody>\n",
       "</table>\n",
       "</div>"
      ],
      "text/plain": [
       "Borough    BRONX  BROOKLYN  MANHATTAN   QUEENS  STATEN ISLAND\n",
       "Agency                                                       \n",
       "3-1-1       17.0      28.0       23.0     28.0            6.0\n",
       "DCA        958.0    1532.0     1529.0   1547.0          194.0\n",
       "DEP       5837.0   17917.0    17315.0  15216.0         4061.0\n",
       "DFTA        21.0      33.0       24.0     21.0            2.0\n",
       "DHS        397.0    1130.0    12767.0    734.0           55.0\n",
       "DOB       5160.0   10993.0     6507.0  10567.0         1594.0\n",
       "DOE        129.0     127.0       49.0    136.0           13.0\n",
       "DOF        143.0     161.0      153.0    112.0           10.0\n",
       "DOHMH     2406.0    4481.0     3759.0   2814.0          728.0\n",
       "DOITT        7.0      18.0       91.0     18.0            NaN\n",
       "DOT       8682.0   19176.0     9673.0  22096.0         6551.0\n",
       "DPR       1416.0    2929.0     1103.0   3897.0         1485.0\n",
       "DSNY      6406.0   22208.0     6079.0  18125.0        10503.0\n",
       "EDC          1.0      62.0       41.0     15.0            4.0\n",
       "FDNY        39.0     127.0     1344.0    158.0            8.0\n",
       "HPD      77774.0   81382.0    51017.0  31080.0         3562.0\n",
       "NYPD     48837.0   88973.0    55841.0  69931.0        10101.0\n",
       "TLC        318.0    1238.0     4393.0   1146.0           34.0"
      ]
     },
     "execution_count": 21,
     "metadata": {},
     "output_type": "execute_result"
    }
   ],
   "source": [
    "agency_borough.size().unstack()"
   ]
  },
  {
   "cell_type": "markdown",
   "metadata": {},
   "source": [
    "<h1>Incidents by time</h1>\n",
    "<p>We know the creation date of each incident so we can build a bar graph of number of incidents by month\n",
    "<p>Not particularly useful with a few months data but if we had all data from 2010, we could use this sort of\n",
    "analysis to eyeball trends and seasonality\n",
    "<p>We're going to need to do some data manipulation for this"
   ]
  },
  {
   "cell_type": "markdown",
   "metadata": {},
   "source": [
    "<h3>We'll start by creating a new date field yyyymm"
   ]
  },
  {
   "cell_type": "code",
   "execution_count": 22,
   "metadata": {},
   "outputs": [],
   "source": [
    "import datetime\n",
    "df['yyyymm'] = df['Created Date'].apply(lambda x:datetime.datetime.strftime(x,'%Y%m'))"
   ]
  },
  {
   "cell_type": "code",
   "execution_count": 23,
   "metadata": {},
   "outputs": [
    {
     "data": {
      "text/plain": [
       "array(['201609', '201611', '201701', '201610', '201612'], dtype=object)"
      ]
     },
     "execution_count": 23,
     "metadata": {},
     "output_type": "execute_result"
    }
   ],
   "source": [
    "df['yyyymm'].unique()"
   ]
  },
  {
   "cell_type": "code",
   "execution_count": 24,
   "metadata": {},
   "outputs": [
    {
     "data": {
      "text/plain": [
       "<AxesSubplot:xlabel='yyyymm'>"
      ]
     },
     "execution_count": 24,
     "metadata": {},
     "output_type": "execute_result"
    },
    {
     "data": {
      "image/png": "[encoded data removed]",
      "text/plain": [
       "<Figure size 864x864 with 1 Axes>"
      ]
     },
     "metadata": {},
     "output_type": "display_data"
    }
   ],
   "source": [
    "date_agency = df.groupby(['yyyymm','Agency'])\n",
    "date_agency.size().unstack().plot(kind='bar',figsize=(12,12))"
   ]
  },
  {
   "cell_type": "code",
   "execution_count": 25,
   "metadata": {},
   "outputs": [
    {
     "data": {
      "text/html": [
       "<div>\n",
       "<style scoped>\n",
       "    .dataframe tbody tr th:only-of-type {\n",
       "        vertical-align: middle;\n",
       "    }\n",
       "\n",
       "    .dataframe tbody tr th {\n",
       "        vertical-align: top;\n",
       "    }\n",
       "\n",
       "    .dataframe thead th {\n",
       "        text-align: right;\n",
       "    }\n",
       "</style>\n",
       "<table border=\"1\" class=\"dataframe\">\n",
       "  <thead>\n",
       "    <tr style=\"text-align: right;\">\n",
       "      <th>Agency</th>\n",
       "      <th>3-1-1</th>\n",
       "      <th>DCA</th>\n",
       "      <th>DEP</th>\n",
       "      <th>DFTA</th>\n",
       "      <th>DHS</th>\n",
       "      <th>DOB</th>\n",
       "      <th>DOE</th>\n",
       "      <th>DOF</th>\n",
       "      <th>DOHMH</th>\n",
       "      <th>DOITT</th>\n",
       "      <th>DOT</th>\n",
       "      <th>DPR</th>\n",
       "      <th>DSNY</th>\n",
       "      <th>EDC</th>\n",
       "      <th>FDNY</th>\n",
       "      <th>HPD</th>\n",
       "      <th>NYPD</th>\n",
       "      <th>TLC</th>\n",
       "    </tr>\n",
       "    <tr>\n",
       "      <th>yyyymm</th>\n",
       "      <th></th>\n",
       "      <th></th>\n",
       "      <th></th>\n",
       "      <th></th>\n",
       "      <th></th>\n",
       "      <th></th>\n",
       "      <th></th>\n",
       "      <th></th>\n",
       "      <th></th>\n",
       "      <th></th>\n",
       "      <th></th>\n",
       "      <th></th>\n",
       "      <th></th>\n",
       "      <th></th>\n",
       "      <th></th>\n",
       "      <th></th>\n",
       "      <th></th>\n",
       "      <th></th>\n",
       "    </tr>\n",
       "  </thead>\n",
       "  <tbody>\n",
       "    <tr>\n",
       "      <th>201609</th>\n",
       "      <td>31.0</td>\n",
       "      <td>1358.0</td>\n",
       "      <td>14206.0</td>\n",
       "      <td>31.0</td>\n",
       "      <td>4825.0</td>\n",
       "      <td>7385.0</td>\n",
       "      <td>101.0</td>\n",
       "      <td>145.0</td>\n",
       "      <td>3842.0</td>\n",
       "      <td>36.0</td>\n",
       "      <td>13581.0</td>\n",
       "      <td>3936.0</td>\n",
       "      <td>13678.0</td>\n",
       "      <td>123.0</td>\n",
       "      <td>604.0</td>\n",
       "      <td>30878.0</td>\n",
       "      <td>64486.0</td>\n",
       "      <td>1837.0</td>\n",
       "    </tr>\n",
       "    <tr>\n",
       "      <th>201610</th>\n",
       "      <td>19.0</td>\n",
       "      <td>1211.0</td>\n",
       "      <td>13634.0</td>\n",
       "      <td>23.0</td>\n",
       "      <td>3475.0</td>\n",
       "      <td>7554.0</td>\n",
       "      <td>78.0</td>\n",
       "      <td>118.0</td>\n",
       "      <td>3648.0</td>\n",
       "      <td>32.0</td>\n",
       "      <td>13233.0</td>\n",
       "      <td>2941.0</td>\n",
       "      <td>12322.0</td>\n",
       "      <td>NaN</td>\n",
       "      <td>547.0</td>\n",
       "      <td>52980.0</td>\n",
       "      <td>58340.0</td>\n",
       "      <td>1750.0</td>\n",
       "    </tr>\n",
       "    <tr>\n",
       "      <th>201611</th>\n",
       "      <td>24.0</td>\n",
       "      <td>1165.0</td>\n",
       "      <td>13205.0</td>\n",
       "      <td>18.0</td>\n",
       "      <td>2579.0</td>\n",
       "      <td>6766.0</td>\n",
       "      <td>48.0</td>\n",
       "      <td>113.0</td>\n",
       "      <td>2847.0</td>\n",
       "      <td>22.0</td>\n",
       "      <td>12988.0</td>\n",
       "      <td>1933.0</td>\n",
       "      <td>11956.0</td>\n",
       "      <td>NaN</td>\n",
       "      <td>304.0</td>\n",
       "      <td>53198.0</td>\n",
       "      <td>51187.0</td>\n",
       "      <td>1585.0</td>\n",
       "    </tr>\n",
       "    <tr>\n",
       "      <th>201612</th>\n",
       "      <td>19.0</td>\n",
       "      <td>1277.0</td>\n",
       "      <td>10701.0</td>\n",
       "      <td>24.0</td>\n",
       "      <td>2583.0</td>\n",
       "      <td>6817.0</td>\n",
       "      <td>100.0</td>\n",
       "      <td>114.0</td>\n",
       "      <td>2277.0</td>\n",
       "      <td>35.0</td>\n",
       "      <td>13860.0</td>\n",
       "      <td>1072.0</td>\n",
       "      <td>12462.0</td>\n",
       "      <td>NaN</td>\n",
       "      <td>133.0</td>\n",
       "      <td>64714.0</td>\n",
       "      <td>51689.0</td>\n",
       "      <td>1448.0</td>\n",
       "    </tr>\n",
       "    <tr>\n",
       "      <th>201701</th>\n",
       "      <td>9.0</td>\n",
       "      <td>749.0</td>\n",
       "      <td>8600.0</td>\n",
       "      <td>5.0</td>\n",
       "      <td>1621.0</td>\n",
       "      <td>6299.0</td>\n",
       "      <td>127.0</td>\n",
       "      <td>89.0</td>\n",
       "      <td>1574.0</td>\n",
       "      <td>9.0</td>\n",
       "      <td>12516.0</td>\n",
       "      <td>948.0</td>\n",
       "      <td>12903.0</td>\n",
       "      <td>NaN</td>\n",
       "      <td>88.0</td>\n",
       "      <td>43045.0</td>\n",
       "      <td>47981.0</td>\n",
       "      <td>509.0</td>\n",
       "    </tr>\n",
       "  </tbody>\n",
       "</table>\n",
       "</div>"
      ],
      "text/plain": [
       "Agency  3-1-1     DCA      DEP  DFTA     DHS     DOB    DOE    DOF   DOHMH  \\\n",
       "yyyymm                                                                       \n",
       "201609   31.0  1358.0  14206.0  31.0  4825.0  7385.0  101.0  145.0  3842.0   \n",
       "201610   19.0  1211.0  13634.0  23.0  3475.0  7554.0   78.0  118.0  3648.0   \n",
       "201611   24.0  1165.0  13205.0  18.0  2579.0  6766.0   48.0  113.0  2847.0   \n",
       "201612   19.0  1277.0  10701.0  24.0  2583.0  6817.0  100.0  114.0  2277.0   \n",
       "201701    9.0   749.0   8600.0   5.0  1621.0  6299.0  127.0   89.0  1574.0   \n",
       "\n",
       "Agency  DOITT      DOT     DPR     DSNY    EDC   FDNY      HPD     NYPD  \\\n",
       "yyyymm                                                                    \n",
       "201609   36.0  13581.0  3936.0  13678.0  123.0  604.0  30878.0  64486.0   \n",
       "201610   32.0  13233.0  2941.0  12322.0    NaN  547.0  52980.0  58340.0   \n",
       "201611   22.0  12988.0  1933.0  11956.0    NaN  304.0  53198.0  51187.0   \n",
       "201612   35.0  13860.0  1072.0  12462.0    NaN  133.0  64714.0  51689.0   \n",
       "201701    9.0  12516.0   948.0  12903.0    NaN   88.0  43045.0  47981.0   \n",
       "\n",
       "Agency     TLC  \n",
       "yyyymm          \n",
       "201609  1837.0  \n",
       "201610  1750.0  \n",
       "201611  1585.0  \n",
       "201612  1448.0  \n",
       "201701   509.0  "
      ]
     },
     "execution_count": 25,
     "metadata": {},
     "output_type": "execute_result"
    }
   ],
   "source": [
    "date_agency.size().unstack()"
   ]
  },
  {
   "cell_type": "markdown",
   "metadata": {},
   "source": [
    "<h2>We'll look at the frequency by agency and report the top 5 values</h2>"
   ]
  },
  {
   "cell_type": "code",
   "execution_count": 26,
   "metadata": {},
   "outputs": [
    {
     "data": {
      "text/plain": [
       "Agency\n",
       "NYPD     273683\n",
       "HPD      244815\n",
       "DOT       66178\n",
       "DSNY      63321\n",
       "DEP       60346\n",
       "DOB       34821\n",
       "DHS       15083\n",
       "DOHMH     14188\n",
       "DPR       10830\n",
       "TLC        7129\n",
       "DCA        5760\n",
       "FDNY       1676\n",
       "DOF         579\n",
       "DOE         454\n",
       "DOITT       134\n",
       "EDC         123\n",
       "3-1-1       102\n",
       "DFTA        101\n",
       "dtype: int64"
      ]
     },
     "execution_count": 26,
     "metadata": {},
     "output_type": "execute_result"
    }
   ],
   "source": [
    "df.groupby('Agency').size().sort_values(ascending=False)"
   ]
  },
  {
   "cell_type": "code",
   "execution_count": 27,
   "metadata": {},
   "outputs": [
    {
     "data": {
      "text/plain": [
       "<AxesSubplot:xlabel='Agency'>"
      ]
     },
     "execution_count": 27,
     "metadata": {},
     "output_type": "execute_result"
    },
    {
     "data": {
      "image/png": "[encoded data removed]",
      "text/plain": [
       "<Figure size 1440x288 with 1 Axes>"
      ]
     },
     "metadata": {},
     "output_type": "display_data"
    }
   ],
   "source": [
    "df.groupby('Agency').size().sort_values(ascending=False).plot(kind='bar', figsize=(20,4))"
   ]
  },
  {
   "cell_type": "markdown",
   "metadata": {},
   "source": [
    "<h3>We can drill down into complaints by Agency by borough</h3>"
   ]
  },
  {
   "cell_type": "code",
   "execution_count": 28,
   "metadata": {},
   "outputs": [],
   "source": [
    "agency_borough = df.groupby(['Agency', 'Borough']).size().unstack()"
   ]
  },
  {
   "cell_type": "code",
   "execution_count": 29,
   "metadata": {},
   "outputs": [
    {
     "data": {
      "text/html": [
       "<div>\n",
       "<style scoped>\n",
       "    .dataframe tbody tr th:only-of-type {\n",
       "        vertical-align: middle;\n",
       "    }\n",
       "\n",
       "    .dataframe tbody tr th {\n",
       "        vertical-align: top;\n",
       "    }\n",
       "\n",
       "    .dataframe thead th {\n",
       "        text-align: right;\n",
       "    }\n",
       "</style>\n",
       "<table border=\"1\" class=\"dataframe\">\n",
       "  <thead>\n",
       "    <tr style=\"text-align: right;\">\n",
       "      <th>Borough</th>\n",
       "      <th>BRONX</th>\n",
       "      <th>BROOKLYN</th>\n",
       "      <th>MANHATTAN</th>\n",
       "      <th>QUEENS</th>\n",
       "      <th>STATEN ISLAND</th>\n",
       "    </tr>\n",
       "    <tr>\n",
       "      <th>Agency</th>\n",
       "      <th></th>\n",
       "      <th></th>\n",
       "      <th></th>\n",
       "      <th></th>\n",
       "      <th></th>\n",
       "    </tr>\n",
       "  </thead>\n",
       "  <tbody>\n",
       "    <tr>\n",
       "      <th>3-1-1</th>\n",
       "      <td>3-1-1</td>\n",
       "      <td>3-1-1</td>\n",
       "      <td>3-1-1</td>\n",
       "      <td>3-1-1</td>\n",
       "      <td>3-1-1</td>\n",
       "    </tr>\n",
       "    <tr>\n",
       "      <th>DCA</th>\n",
       "      <td>DCA</td>\n",
       "      <td>DCA</td>\n",
       "      <td>DCA</td>\n",
       "      <td>DCA</td>\n",
       "      <td>DCA</td>\n",
       "    </tr>\n",
       "    <tr>\n",
       "      <th>DEP</th>\n",
       "      <td>DEP</td>\n",
       "      <td>DEP</td>\n",
       "      <td>DEP</td>\n",
       "      <td>DEP</td>\n",
       "      <td>DEP</td>\n",
       "    </tr>\n",
       "    <tr>\n",
       "      <th>DFTA</th>\n",
       "      <td>DFTA</td>\n",
       "      <td>DFTA</td>\n",
       "      <td>DFTA</td>\n",
       "      <td>DFTA</td>\n",
       "      <td>DFTA</td>\n",
       "    </tr>\n",
       "    <tr>\n",
       "      <th>DHS</th>\n",
       "      <td>DHS</td>\n",
       "      <td>DHS</td>\n",
       "      <td>DHS</td>\n",
       "      <td>DHS</td>\n",
       "      <td>DHS</td>\n",
       "    </tr>\n",
       "    <tr>\n",
       "      <th>DOB</th>\n",
       "      <td>DOB</td>\n",
       "      <td>DOB</td>\n",
       "      <td>DOB</td>\n",
       "      <td>DOB</td>\n",
       "      <td>DOB</td>\n",
       "    </tr>\n",
       "    <tr>\n",
       "      <th>DOE</th>\n",
       "      <td>DOE</td>\n",
       "      <td>DOE</td>\n",
       "      <td>DOE</td>\n",
       "      <td>DOE</td>\n",
       "      <td>DOE</td>\n",
       "    </tr>\n",
       "    <tr>\n",
       "      <th>DOF</th>\n",
       "      <td>DOF</td>\n",
       "      <td>DOF</td>\n",
       "      <td>DOF</td>\n",
       "      <td>DOF</td>\n",
       "      <td>DOF</td>\n",
       "    </tr>\n",
       "    <tr>\n",
       "      <th>DOHMH</th>\n",
       "      <td>DOHMH</td>\n",
       "      <td>DOHMH</td>\n",
       "      <td>DOHMH</td>\n",
       "      <td>DOHMH</td>\n",
       "      <td>DOHMH</td>\n",
       "    </tr>\n",
       "    <tr>\n",
       "      <th>DOITT</th>\n",
       "      <td>DOITT</td>\n",
       "      <td>DOITT</td>\n",
       "      <td>DOITT</td>\n",
       "      <td>DOITT</td>\n",
       "      <td>DOITT</td>\n",
       "    </tr>\n",
       "    <tr>\n",
       "      <th>DOT</th>\n",
       "      <td>DOT</td>\n",
       "      <td>DOT</td>\n",
       "      <td>DOT</td>\n",
       "      <td>DOT</td>\n",
       "      <td>DOT</td>\n",
       "    </tr>\n",
       "    <tr>\n",
       "      <th>DPR</th>\n",
       "      <td>DPR</td>\n",
       "      <td>DPR</td>\n",
       "      <td>DPR</td>\n",
       "      <td>DPR</td>\n",
       "      <td>DPR</td>\n",
       "    </tr>\n",
       "    <tr>\n",
       "      <th>DSNY</th>\n",
       "      <td>DSNY</td>\n",
       "      <td>DSNY</td>\n",
       "      <td>DSNY</td>\n",
       "      <td>DSNY</td>\n",
       "      <td>DSNY</td>\n",
       "    </tr>\n",
       "    <tr>\n",
       "      <th>EDC</th>\n",
       "      <td>EDC</td>\n",
       "      <td>EDC</td>\n",
       "      <td>EDC</td>\n",
       "      <td>EDC</td>\n",
       "      <td>EDC</td>\n",
       "    </tr>\n",
       "    <tr>\n",
       "      <th>FDNY</th>\n",
       "      <td>FDNY</td>\n",
       "      <td>FDNY</td>\n",
       "      <td>FDNY</td>\n",
       "      <td>FDNY</td>\n",
       "      <td>FDNY</td>\n",
       "    </tr>\n",
       "    <tr>\n",
       "      <th>HPD</th>\n",
       "      <td>HPD</td>\n",
       "      <td>HPD</td>\n",
       "      <td>HPD</td>\n",
       "      <td>HPD</td>\n",
       "      <td>HPD</td>\n",
       "    </tr>\n",
       "    <tr>\n",
       "      <th>NYPD</th>\n",
       "      <td>NYPD</td>\n",
       "      <td>NYPD</td>\n",
       "      <td>NYPD</td>\n",
       "      <td>NYPD</td>\n",
       "      <td>NYPD</td>\n",
       "    </tr>\n",
       "    <tr>\n",
       "      <th>TLC</th>\n",
       "      <td>TLC</td>\n",
       "      <td>TLC</td>\n",
       "      <td>TLC</td>\n",
       "      <td>TLC</td>\n",
       "      <td>TLC</td>\n",
       "    </tr>\n",
       "  </tbody>\n",
       "</table>\n",
       "</div>"
      ],
      "text/plain": [
       "Borough  BRONX BROOKLYN MANHATTAN QUEENS STATEN ISLAND\n",
       "Agency                                                \n",
       "3-1-1    3-1-1    3-1-1     3-1-1  3-1-1         3-1-1\n",
       "DCA        DCA      DCA       DCA    DCA           DCA\n",
       "DEP        DEP      DEP       DEP    DEP           DEP\n",
       "DFTA      DFTA     DFTA      DFTA   DFTA          DFTA\n",
       "DHS        DHS      DHS       DHS    DHS           DHS\n",
       "DOB        DOB      DOB       DOB    DOB           DOB\n",
       "DOE        DOE      DOE       DOE    DOE           DOE\n",
       "DOF        DOF      DOF       DOF    DOF           DOF\n",
       "DOHMH    DOHMH    DOHMH     DOHMH  DOHMH         DOHMH\n",
       "DOITT    DOITT    DOITT     DOITT  DOITT         DOITT\n",
       "DOT        DOT      DOT       DOT    DOT           DOT\n",
       "DPR        DPR      DPR       DPR    DPR           DPR\n",
       "DSNY      DSNY     DSNY      DSNY   DSNY          DSNY\n",
       "EDC        EDC      EDC       EDC    EDC           EDC\n",
       "FDNY      FDNY     FDNY      FDNY   FDNY          FDNY\n",
       "HPD        HPD      HPD       HPD    HPD           HPD\n",
       "NYPD      NYPD     NYPD      NYPD   NYPD          NYPD\n",
       "TLC        TLC      TLC       TLC    TLC           TLC"
      ]
     },
     "execution_count": 29,
     "metadata": {},
     "output_type": "execute_result"
    }
   ],
   "source": [
    "agency_borough.apply(lambda x: x.index)"
   ]
  },
  {
   "cell_type": "markdown",
   "metadata": {},
   "source": [
    "<h3>We can create 'top 5 Agency' subplots subplots for each borough</h3>"
   ]
  },
  {
   "cell_type": "markdown",
   "metadata": {},
   "source": [
    "<li>matplotlib.subplots returns a <span style=\"color:blue\">Figure</span> object and an <span style=\"color:blue\">axes</span> object\n",
    "<li>The figure object contains the entire figure\n",
    "<li>The axes object keeps track of the number of columns and number of rows\n",
    "<li>The python function <span style=\"color:blue\">enumerate</span> returns an iterator over indexes and values\n",
    "<li>The python function <span style=\"color:blue\">items</span> returns (key, value) pairs in a dictionary in the form of a list"
   ]
  },
  {
   "cell_type": "markdown",
   "metadata": {},
   "source": [
    "<h2>Digression: items() and enumerate()</h2>"
   ]
  },
  {
   "cell_type": "markdown",
   "metadata": {},
   "source": [
    "<h3>items()</h3>"
   ]
  },
  {
   "cell_type": "code",
   "execution_count": 30,
   "metadata": {},
   "outputs": [
    {
     "name": "stdout",
     "output_type": "stream",
     "text": [
      "('phone', 'iphone x')\n",
      "('keys', ['home', 'office'])\n",
      "('wallet', ['cash', 'credit cards', 'ids'])\n"
     ]
    }
   ],
   "source": [
    "things = {'phone':'iphone x','keys':['home','office'],'wallet':['cash','credit cards','ids']}\n",
    "for stuff in things.items():\n",
    "    print(stuff)"
   ]
  },
  {
   "cell_type": "code",
   "execution_count": 31,
   "metadata": {},
   "outputs": [
    {
     "data": {
      "text/plain": [
       "dict_items([('phone', 'iphone x'), ('keys', ['home', 'office']), ('wallet', ['cash', 'credit cards', 'ids'])])"
      ]
     },
     "execution_count": 31,
     "metadata": {},
     "output_type": "execute_result"
    }
   ],
   "source": [
    "things.items()"
   ]
  },
  {
   "cell_type": "markdown",
   "metadata": {},
   "source": [
    "<h3>enumerate()</h3>"
   ]
  },
  {
   "cell_type": "code",
   "execution_count": 32,
   "metadata": {},
   "outputs": [
    {
     "name": "stdout",
     "output_type": "stream",
     "text": [
      "(0, 'Carter')\n",
      "(1, 'Reagan')\n",
      "(2, 'Bush Sr.')\n",
      "(3, 'Clinton')\n",
      "(4, 'Bush Jr.')\n",
      "(5, 'Obama')\n",
      "(6, 'Trump')\n"
     ]
    }
   ],
   "source": [
    "presidents=[\"Carter\",\"Reagan\",\"Bush Sr.\",\"Clinton\",\"Bush Jr.\",\"Obama\",\"Trump\"]\n",
    "for thing in enumerate(presidents):\n",
    "    print(thing)\n",
    "\n",
    "\n",
    "    "
   ]
  },
  {
   "cell_type": "markdown",
   "metadata": {},
   "source": [
    "<h4>Who was the president before Reagan?</h4>"
   ]
  },
  {
   "cell_type": "code",
   "execution_count": 33,
   "metadata": {},
   "outputs": [
    {
     "name": "stdout",
     "output_type": "stream",
     "text": [
      "Carter\n"
     ]
    }
   ],
   "source": [
    "for thing in enumerate(presidents):\n",
    "    if thing[1] == 'Reagan':\n",
    "        print(presidents[thing[0]-1])"
   ]
  },
  {
   "cell_type": "code",
   "execution_count": 34,
   "metadata": {},
   "outputs": [
    {
     "name": "stdout",
     "output_type": "stream",
     "text": [
      "Carter\n"
     ]
    }
   ],
   "source": [
    "for index,name in enumerate(presidents):\n",
    "    if name == 'Reagan':\n",
    "        print(presidents[index-1])"
   ]
  },
  {
   "cell_type": "markdown",
   "metadata": {},
   "source": [
    "<h4>groupby(['Agency', 'Borough'])</h4>\n",
    "<li>Dictionary with key = Borough and values = Series object with index = Agency and value = count"
   ]
  },
  {
   "cell_type": "code",
   "execution_count": 35,
   "metadata": {},
   "outputs": [
    {
     "data": {
      "text/plain": [
       "Agency\n",
       "3-1-1       17.0\n",
       "DCA        958.0\n",
       "DEP       5837.0\n",
       "DFTA        21.0\n",
       "DHS        397.0\n",
       "DOB       5160.0\n",
       "DOE        129.0\n",
       "DOF        143.0\n",
       "DOHMH     2406.0\n",
       "DOITT        7.0\n",
       "DOT       8682.0\n",
       "DPR       1416.0\n",
       "DSNY      6406.0\n",
       "EDC          1.0\n",
       "FDNY        39.0\n",
       "HPD      77774.0\n",
       "NYPD     48837.0\n",
       "TLC        318.0\n",
       "Name: BRONX, dtype: float64"
      ]
     },
     "execution_count": 35,
     "metadata": {},
     "output_type": "execute_result"
    }
   ],
   "source": [
    "#Bronx is a key\n",
    "agency_borough['BRONX']"
   ]
  },
  {
   "cell_type": "code",
   "execution_count": 36,
   "metadata": {},
   "outputs": [
    {
     "data": {
      "text/html": [
       "<div>\n",
       "<style scoped>\n",
       "    .dataframe tbody tr th:only-of-type {\n",
       "        vertical-align: middle;\n",
       "    }\n",
       "\n",
       "    .dataframe tbody tr th {\n",
       "        vertical-align: top;\n",
       "    }\n",
       "\n",
       "    .dataframe thead th {\n",
       "        text-align: right;\n",
       "    }\n",
       "</style>\n",
       "<table border=\"1\" class=\"dataframe\">\n",
       "  <thead>\n",
       "    <tr style=\"text-align: right;\">\n",
       "      <th>Borough</th>\n",
       "      <th>BRONX</th>\n",
       "      <th>BROOKLYN</th>\n",
       "      <th>MANHATTAN</th>\n",
       "      <th>QUEENS</th>\n",
       "      <th>STATEN ISLAND</th>\n",
       "    </tr>\n",
       "    <tr>\n",
       "      <th>Agency</th>\n",
       "      <th></th>\n",
       "      <th></th>\n",
       "      <th></th>\n",
       "      <th></th>\n",
       "      <th></th>\n",
       "    </tr>\n",
       "  </thead>\n",
       "  <tbody>\n",
       "    <tr>\n",
       "      <th>3-1-1</th>\n",
       "      <td>17.0</td>\n",
       "      <td>28.0</td>\n",
       "      <td>23.0</td>\n",
       "      <td>28.0</td>\n",
       "      <td>6.0</td>\n",
       "    </tr>\n",
       "    <tr>\n",
       "      <th>DCA</th>\n",
       "      <td>958.0</td>\n",
       "      <td>1532.0</td>\n",
       "      <td>1529.0</td>\n",
       "      <td>1547.0</td>\n",
       "      <td>194.0</td>\n",
       "    </tr>\n",
       "    <tr>\n",
       "      <th>DEP</th>\n",
       "      <td>5837.0</td>\n",
       "      <td>17917.0</td>\n",
       "      <td>17315.0</td>\n",
       "      <td>15216.0</td>\n",
       "      <td>4061.0</td>\n",
       "    </tr>\n",
       "    <tr>\n",
       "      <th>DFTA</th>\n",
       "      <td>21.0</td>\n",
       "      <td>33.0</td>\n",
       "      <td>24.0</td>\n",
       "      <td>21.0</td>\n",
       "      <td>2.0</td>\n",
       "    </tr>\n",
       "    <tr>\n",
       "      <th>DHS</th>\n",
       "      <td>397.0</td>\n",
       "      <td>1130.0</td>\n",
       "      <td>12767.0</td>\n",
       "      <td>734.0</td>\n",
       "      <td>55.0</td>\n",
       "    </tr>\n",
       "    <tr>\n",
       "      <th>DOB</th>\n",
       "      <td>5160.0</td>\n",
       "      <td>10993.0</td>\n",
       "      <td>6507.0</td>\n",
       "      <td>10567.0</td>\n",
       "      <td>1594.0</td>\n",
       "    </tr>\n",
       "    <tr>\n",
       "      <th>DOE</th>\n",
       "      <td>129.0</td>\n",
       "      <td>127.0</td>\n",
       "      <td>49.0</td>\n",
       "      <td>136.0</td>\n",
       "      <td>13.0</td>\n",
       "    </tr>\n",
       "    <tr>\n",
       "      <th>DOF</th>\n",
       "      <td>143.0</td>\n",
       "      <td>161.0</td>\n",
       "      <td>153.0</td>\n",
       "      <td>112.0</td>\n",
       "      <td>10.0</td>\n",
       "    </tr>\n",
       "    <tr>\n",
       "      <th>DOHMH</th>\n",
       "      <td>2406.0</td>\n",
       "      <td>4481.0</td>\n",
       "      <td>3759.0</td>\n",
       "      <td>2814.0</td>\n",
       "      <td>728.0</td>\n",
       "    </tr>\n",
       "    <tr>\n",
       "      <th>DOITT</th>\n",
       "      <td>7.0</td>\n",
       "      <td>18.0</td>\n",
       "      <td>91.0</td>\n",
       "      <td>18.0</td>\n",
       "      <td>NaN</td>\n",
       "    </tr>\n",
       "    <tr>\n",
       "      <th>DOT</th>\n",
       "      <td>8682.0</td>\n",
       "      <td>19176.0</td>\n",
       "      <td>9673.0</td>\n",
       "      <td>22096.0</td>\n",
       "      <td>6551.0</td>\n",
       "    </tr>\n",
       "    <tr>\n",
       "      <th>DPR</th>\n",
       "      <td>1416.0</td>\n",
       "      <td>2929.0</td>\n",
       "      <td>1103.0</td>\n",
       "      <td>3897.0</td>\n",
       "      <td>1485.0</td>\n",
       "    </tr>\n",
       "    <tr>\n",
       "      <th>DSNY</th>\n",
       "      <td>6406.0</td>\n",
       "      <td>22208.0</td>\n",
       "      <td>6079.0</td>\n",
       "      <td>18125.0</td>\n",
       "      <td>10503.0</td>\n",
       "    </tr>\n",
       "    <tr>\n",
       "      <th>EDC</th>\n",
       "      <td>1.0</td>\n",
       "      <td>62.0</td>\n",
       "      <td>41.0</td>\n",
       "      <td>15.0</td>\n",
       "      <td>4.0</td>\n",
       "    </tr>\n",
       "    <tr>\n",
       "      <th>FDNY</th>\n",
       "      <td>39.0</td>\n",
       "      <td>127.0</td>\n",
       "      <td>1344.0</td>\n",
       "      <td>158.0</td>\n",
       "      <td>8.0</td>\n",
       "    </tr>\n",
       "    <tr>\n",
       "      <th>HPD</th>\n",
       "      <td>77774.0</td>\n",
       "      <td>81382.0</td>\n",
       "      <td>51017.0</td>\n",
       "      <td>31080.0</td>\n",
       "      <td>3562.0</td>\n",
       "    </tr>\n",
       "    <tr>\n",
       "      <th>NYPD</th>\n",
       "      <td>48837.0</td>\n",
       "      <td>88973.0</td>\n",
       "      <td>55841.0</td>\n",
       "      <td>69931.0</td>\n",
       "      <td>10101.0</td>\n",
       "    </tr>\n",
       "    <tr>\n",
       "      <th>TLC</th>\n",
       "      <td>318.0</td>\n",
       "      <td>1238.0</td>\n",
       "      <td>4393.0</td>\n",
       "      <td>1146.0</td>\n",
       "      <td>34.0</td>\n",
       "    </tr>\n",
       "  </tbody>\n",
       "</table>\n",
       "</div>"
      ],
      "text/plain": [
       "Borough    BRONX  BROOKLYN  MANHATTAN   QUEENS  STATEN ISLAND\n",
       "Agency                                                       \n",
       "3-1-1       17.0      28.0       23.0     28.0            6.0\n",
       "DCA        958.0    1532.0     1529.0   1547.0          194.0\n",
       "DEP       5837.0   17917.0    17315.0  15216.0         4061.0\n",
       "DFTA        21.0      33.0       24.0     21.0            2.0\n",
       "DHS        397.0    1130.0    12767.0    734.0           55.0\n",
       "DOB       5160.0   10993.0     6507.0  10567.0         1594.0\n",
       "DOE        129.0     127.0       49.0    136.0           13.0\n",
       "DOF        143.0     161.0      153.0    112.0           10.0\n",
       "DOHMH     2406.0    4481.0     3759.0   2814.0          728.0\n",
       "DOITT        7.0      18.0       91.0     18.0            NaN\n",
       "DOT       8682.0   19176.0     9673.0  22096.0         6551.0\n",
       "DPR       1416.0    2929.0     1103.0   3897.0         1485.0\n",
       "DSNY      6406.0   22208.0     6079.0  18125.0        10503.0\n",
       "EDC          1.0      62.0       41.0     15.0            4.0\n",
       "FDNY        39.0     127.0     1344.0    158.0            8.0\n",
       "HPD      77774.0   81382.0    51017.0  31080.0         3562.0\n",
       "NYPD     48837.0   88973.0    55841.0  69931.0        10101.0\n",
       "TLC        318.0    1238.0     4393.0   1146.0           34.0"
      ]
     },
     "execution_count": 36,
     "metadata": {},
     "output_type": "execute_result"
    }
   ],
   "source": [
    "agency_borough"
   ]
  },
  {
   "cell_type": "markdown",
   "metadata": {},
   "source": [
    "<h4>.items() will return a list containing (borough, pandas.Series)</h4>"
   ]
  },
  {
   "cell_type": "code",
   "execution_count": 37,
   "metadata": {},
   "outputs": [
    {
     "name": "stdout",
     "output_type": "stream",
     "text": [
      "('BRONX', Agency\n",
      "3-1-1       17.0\n",
      "DCA        958.0\n",
      "DEP       5837.0\n",
      "DFTA        21.0\n",
      "DHS        397.0\n",
      "DOB       5160.0\n",
      "DOE        129.0\n",
      "DOF        143.0\n",
      "DOHMH     2406.0\n",
      "DOITT        7.0\n",
      "DOT       8682.0\n",
      "DPR       1416.0\n",
      "DSNY      6406.0\n",
      "EDC          1.0\n",
      "FDNY        39.0\n",
      "HPD      77774.0\n",
      "NYPD     48837.0\n",
      "TLC        318.0\n",
      "Name: BRONX, dtype: float64)\n"
     ]
    }
   ],
   "source": [
    "\n",
    "for thing in agency_borough.items():\n",
    "    print(thing)\n",
    "    break"
   ]
  },
  {
   "cell_type": "code",
   "execution_count": 38,
   "metadata": {},
   "outputs": [
    {
     "name": "stdout",
     "output_type": "stream",
     "text": [
      "958.0\n",
      "1532.0\n",
      "1529.0\n",
      "1547.0\n",
      "194.0\n"
     ]
    }
   ],
   "source": [
    "for thing in agency_borough.items():\n",
    "    print(thing[1].loc['DCA'])"
   ]
  },
  {
   "cell_type": "markdown",
   "metadata": {},
   "source": [
    "<h4>for i, (label,col) in enumerate(agency_borough.items())</h4>\n",
    "<li>Will iterate through agency_boroughs returning:\n",
    "<ul>\n",
    "<li>the index i (0,1,2,3,4)\n",
    "<li>the label borough (BRONX, MANHATTAN, ...)\n",
    "<li>the pandas series data (count of each agency for the borough)"
   ]
  },
  {
   "cell_type": "code",
   "execution_count": 39,
   "metadata": {},
   "outputs": [
    {
     "name": "stdout",
     "output_type": "stream",
     "text": [
      "0 BRONX\n",
      "1 BROOKLYN\n",
      "2 MANHATTAN\n",
      "3 QUEENS\n",
      "4 STATEN ISLAND\n"
     ]
    }
   ],
   "source": [
    "for i, (label,col) in enumerate(agency_borough.items()):\n",
    "    print(i,label)"
   ]
  },
  {
   "cell_type": "code",
   "execution_count": 40,
   "metadata": {},
   "outputs": [
    {
     "data": {
      "image/png": "[encoded data removed]",
      "text/plain": [
       "<Figure size 864x864 with 6 Axes>"
      ]
     },
     "metadata": {
      "needs_background": "light"
     },
     "output_type": "display_data"
    }
   ],
   "source": [
    "#We'll arrange the subplots in two rows and three columns. \n",
    "#Since we have only 5 boroughs, one plot will be blank\n",
    "%matplotlib inline\n",
    "COL_NUM = 2\n",
    "ROW_NUM = 3\n",
    "import matplotlib.pyplot as plt\n",
    "fig, axes = plt.subplots(ROW_NUM, COL_NUM, figsize=(12,12))\n",
    "\n",
    "colors = ['r','g','b','y','c']\n",
    "for i, (borough, agency_count) in enumerate(agency_borough.items()): \n",
    "    ax = axes[int(i/COL_NUM), i%COL_NUM]\n",
    "    agency_count = agency_count.sort_values(ascending=False)[:5] \n",
    "#     agency_count.plot(kind='barh', ax=ax)\n",
    "    agency_count.plot(kind='barh', ax=ax, color=colors)\n",
    "    ax.set_title(borough)\n",
    "\n",
    "plt.tight_layout() "
   ]
  },
  {
   "cell_type": "code",
   "execution_count": 41,
   "metadata": {},
   "outputs": [
    {
     "data": {
      "text/plain": [
       "[(0,\n",
       "  ('BRONX', Agency\n",
       "   3-1-1       17.0\n",
       "   DCA        958.0\n",
       "   DEP       5837.0\n",
       "   DFTA        21.0\n",
       "   DHS        397.0\n",
       "   DOB       5160.0\n",
       "   DOE        129.0\n",
       "   DOF        143.0\n",
       "   DOHMH     2406.0\n",
       "   DOITT        7.0\n",
       "   DOT       8682.0\n",
       "   DPR       1416.0\n",
       "   DSNY      6406.0\n",
       "   EDC          1.0\n",
       "   FDNY        39.0\n",
       "   HPD      77774.0\n",
       "   NYPD     48837.0\n",
       "   TLC        318.0\n",
       "   Name: BRONX, dtype: float64)),\n",
       " (1,\n",
       "  ('BROOKLYN', Agency\n",
       "   3-1-1       28.0\n",
       "   DCA       1532.0\n",
       "   DEP      17917.0\n",
       "   DFTA        33.0\n",
       "   DHS       1130.0\n",
       "   DOB      10993.0\n",
       "   DOE        127.0\n",
       "   DOF        161.0\n",
       "   DOHMH     4481.0\n",
       "   DOITT       18.0\n",
       "   DOT      19176.0\n",
       "   DPR       2929.0\n",
       "   DSNY     22208.0\n",
       "   EDC         62.0\n",
       "   FDNY       127.0\n",
       "   HPD      81382.0\n",
       "   NYPD     88973.0\n",
       "   TLC       1238.0\n",
       "   Name: BROOKLYN, dtype: float64)),\n",
       " (2,\n",
       "  ('MANHATTAN', Agency\n",
       "   3-1-1       23.0\n",
       "   DCA       1529.0\n",
       "   DEP      17315.0\n",
       "   DFTA        24.0\n",
       "   DHS      12767.0\n",
       "   DOB       6507.0\n",
       "   DOE         49.0\n",
       "   DOF        153.0\n",
       "   DOHMH     3759.0\n",
       "   DOITT       91.0\n",
       "   DOT       9673.0\n",
       "   DPR       1103.0\n",
       "   DSNY      6079.0\n",
       "   EDC         41.0\n",
       "   FDNY      1344.0\n",
       "   HPD      51017.0\n",
       "   NYPD     55841.0\n",
       "   TLC       4393.0\n",
       "   Name: MANHATTAN, dtype: float64)),\n",
       " (3,\n",
       "  ('QUEENS', Agency\n",
       "   3-1-1       28.0\n",
       "   DCA       1547.0\n",
       "   DEP      15216.0\n",
       "   DFTA        21.0\n",
       "   DHS        734.0\n",
       "   DOB      10567.0\n",
       "   DOE        136.0\n",
       "   DOF        112.0\n",
       "   DOHMH     2814.0\n",
       "   DOITT       18.0\n",
       "   DOT      22096.0\n",
       "   DPR       3897.0\n",
       "   DSNY     18125.0\n",
       "   EDC         15.0\n",
       "   FDNY       158.0\n",
       "   HPD      31080.0\n",
       "   NYPD     69931.0\n",
       "   TLC       1146.0\n",
       "   Name: QUEENS, dtype: float64)),\n",
       " (4,\n",
       "  ('STATEN ISLAND', Agency\n",
       "   3-1-1        6.0\n",
       "   DCA        194.0\n",
       "   DEP       4061.0\n",
       "   DFTA         2.0\n",
       "   DHS         55.0\n",
       "   DOB       1594.0\n",
       "   DOE         13.0\n",
       "   DOF         10.0\n",
       "   DOHMH      728.0\n",
       "   DOITT        NaN\n",
       "   DOT       6551.0\n",
       "   DPR       1485.0\n",
       "   DSNY     10503.0\n",
       "   EDC          4.0\n",
       "   FDNY         8.0\n",
       "   HPD       3562.0\n",
       "   NYPD     10101.0\n",
       "   TLC         34.0\n",
       "   Name: STATEN ISLAND, dtype: float64))]"
      ]
     },
     "execution_count": 41,
     "metadata": {},
     "output_type": "execute_result"
    }
   ],
   "source": [
    "list(enumerate(agency_borough.items()))"
   ]
  },
  {
   "cell_type": "code",
   "execution_count": 42,
   "metadata": {},
   "outputs": [
    {
     "data": {
      "text/plain": [
       "<bound method Series.sort_values of Agency\n",
       "DSNY    10503.0\n",
       "NYPD    10101.0\n",
       "DOT      6551.0\n",
       "DEP      4061.0\n",
       "HPD      3562.0\n",
       "Name: STATEN ISLAND, dtype: float64>"
      ]
     },
     "execution_count": 42,
     "metadata": {},
     "output_type": "execute_result"
    }
   ],
   "source": [
    "agency_count.sort_values"
   ]
  },
  {
   "cell_type": "code",
   "execution_count": 43,
   "metadata": {},
   "outputs": [
    {
     "data": {
      "text/plain": [
       "Agency\n",
       "HPD     77774.0\n",
       "NYPD    48837.0\n",
       "DOT      8682.0\n",
       "DSNY     6406.0\n",
       "DEP      5837.0\n",
       "Name: BRONX, dtype: float64"
      ]
     },
     "execution_count": 43,
     "metadata": {},
     "output_type": "execute_result"
    }
   ],
   "source": [
    "list(agency_borough.items())[0][1].sort_values(ascending=False)[:5]"
   ]
  },
  {
   "cell_type": "code",
   "execution_count": 44,
   "metadata": {},
   "outputs": [
    {
     "data": {
      "text/plain": [
       "array([[<AxesSubplot:title={'center':'BRONX'}, ylabel='Agency'>,\n",
       "        <AxesSubplot:title={'center':'BROOKLYN'}, ylabel='Agency'>],\n",
       "       [<AxesSubplot:title={'center':'MANHATTAN'}, ylabel='Agency'>,\n",
       "        <AxesSubplot:title={'center':'QUEENS'}, ylabel='Agency'>],\n",
       "       [<AxesSubplot:title={'center':'STATEN ISLAND'}, ylabel='Agency'>,\n",
       "        <AxesSubplot:>]], dtype=object)"
      ]
     },
     "execution_count": 44,
     "metadata": {},
     "output_type": "execute_result"
    }
   ],
   "source": [
    "axes"
   ]
  },
  {
   "cell_type": "code",
   "execution_count": 45,
   "metadata": {},
   "outputs": [],
   "source": [
    "# type(axes[0,0])"
   ]
  },
  {
   "cell_type": "code",
   "execution_count": 46,
   "metadata": {},
   "outputs": [
    {
     "data": {
      "text/plain": [
       "[<AxesSubplot:title={'center':'BRONX'}, ylabel='Agency'>,\n",
       " <AxesSubplot:title={'center':'BROOKLYN'}, ylabel='Agency'>,\n",
       " <AxesSubplot:title={'center':'MANHATTAN'}, ylabel='Agency'>,\n",
       " <AxesSubplot:title={'center':'QUEENS'}, ylabel='Agency'>,\n",
       " <AxesSubplot:title={'center':'STATEN ISLAND'}, ylabel='Agency'>,\n",
       " <AxesSubplot:>]"
      ]
     },
     "execution_count": 46,
     "metadata": {},
     "output_type": "execute_result"
    }
   ],
   "source": [
    "fig.axes"
   ]
  },
  {
   "cell_type": "code",
   "execution_count": 47,
   "metadata": {},
   "outputs": [],
   "source": [
    "# plt.subplots(ROW_NUM, COL_NUM, figsize=(12,12))"
   ]
  },
  {
   "cell_type": "markdown",
   "metadata": {},
   "source": [
    "<h1>Processing time</h1>\n",
    "<li>We can compute simple statistics on processing time"
   ]
  },
  {
   "cell_type": "code",
   "execution_count": 48,
   "metadata": {},
   "outputs": [],
   "source": [
    "grouped = df[['processing_time','Borough']].groupby('Borough')"
   ]
  },
  {
   "cell_type": "code",
   "execution_count": 49,
   "metadata": {},
   "outputs": [
    {
     "data": {
      "text/html": [
       "<div>\n",
       "<style scoped>\n",
       "    .dataframe tbody tr th:only-of-type {\n",
       "        vertical-align: middle;\n",
       "    }\n",
       "\n",
       "    .dataframe tbody tr th {\n",
       "        vertical-align: top;\n",
       "    }\n",
       "\n",
       "    .dataframe thead tr th {\n",
       "        text-align: left;\n",
       "    }\n",
       "\n",
       "    .dataframe thead tr:last-of-type th {\n",
       "        text-align: right;\n",
       "    }\n",
       "</style>\n",
       "<table border=\"1\" class=\"dataframe\">\n",
       "  <thead>\n",
       "    <tr>\n",
       "      <th></th>\n",
       "      <th colspan=\"8\" halign=\"left\">processing_time</th>\n",
       "    </tr>\n",
       "    <tr>\n",
       "      <th></th>\n",
       "      <th>count</th>\n",
       "      <th>mean</th>\n",
       "      <th>std</th>\n",
       "      <th>min</th>\n",
       "      <th>25%</th>\n",
       "      <th>50%</th>\n",
       "      <th>75%</th>\n",
       "      <th>max</th>\n",
       "    </tr>\n",
       "    <tr>\n",
       "      <th>Borough</th>\n",
       "      <th></th>\n",
       "      <th></th>\n",
       "      <th></th>\n",
       "      <th></th>\n",
       "      <th></th>\n",
       "      <th></th>\n",
       "      <th></th>\n",
       "      <th></th>\n",
       "    </tr>\n",
       "  </thead>\n",
       "  <tbody>\n",
       "    <tr>\n",
       "      <th>BRONX</th>\n",
       "      <td>158548</td>\n",
       "      <td>5 days 11:22:39.529133133</td>\n",
       "      <td>10 days 19:29:45.763262275</td>\n",
       "      <td>0 days 00:00:00</td>\n",
       "      <td>0 days 05:48:38.250000</td>\n",
       "      <td>1 days 21:27:00</td>\n",
       "      <td>5 days 19:48:12.750000</td>\n",
       "      <td>145 days 00:23:57</td>\n",
       "    </tr>\n",
       "    <tr>\n",
       "      <th>BROOKLYN</th>\n",
       "      <td>252515</td>\n",
       "      <td>5 days 01:22:08.762913094</td>\n",
       "      <td>11 days 20:44:39.914032332</td>\n",
       "      <td>0 days 00:00:00</td>\n",
       "      <td>0 days 02:33:20.500000</td>\n",
       "      <td>0 days 20:19:00</td>\n",
       "      <td>4 days 05:20:01</td>\n",
       "      <td>146 days 17:26:50</td>\n",
       "    </tr>\n",
       "    <tr>\n",
       "      <th>MANHATTAN</th>\n",
       "      <td>171708</td>\n",
       "      <td>5 days 07:43:58.957480140</td>\n",
       "      <td>12 days 01:57:03.858305020</td>\n",
       "      <td>0 days 00:00:00</td>\n",
       "      <td>0 days 02:03:43</td>\n",
       "      <td>0 days 22:13:02.500000</td>\n",
       "      <td>4 days 11:06:08.500000</td>\n",
       "      <td>139 days 22:41:59</td>\n",
       "    </tr>\n",
       "    <tr>\n",
       "      <th>QUEENS</th>\n",
       "      <td>177641</td>\n",
       "      <td>4 days 22:17:46.753142574</td>\n",
       "      <td>13 days 02:00:32.516708357</td>\n",
       "      <td>0 days 00:00:00</td>\n",
       "      <td>0 days 02:07:59</td>\n",
       "      <td>0 days 10:15:11</td>\n",
       "      <td>3 days 20:47:00</td>\n",
       "      <td>148 days 13:10:54</td>\n",
       "    </tr>\n",
       "    <tr>\n",
       "      <th>STATEN ISLAND</th>\n",
       "      <td>38911</td>\n",
       "      <td>5 days 00:57:16.541826218</td>\n",
       "      <td>12 days 00:18:49.372858600</td>\n",
       "      <td>0 days 00:00:00</td>\n",
       "      <td>0 days 02:54:00</td>\n",
       "      <td>0 days 22:11:06</td>\n",
       "      <td>4 days 15:24:28</td>\n",
       "      <td>139 days 22:06:35</td>\n",
       "    </tr>\n",
       "  </tbody>\n",
       "</table>\n",
       "</div>"
      ],
      "text/plain": [
       "              processing_time                             \\\n",
       "                        count                       mean   \n",
       "Borough                                                    \n",
       "BRONX                  158548  5 days 11:22:39.529133133   \n",
       "BROOKLYN               252515  5 days 01:22:08.762913094   \n",
       "MANHATTAN              171708  5 days 07:43:58.957480140   \n",
       "QUEENS                 177641  4 days 22:17:46.753142574   \n",
       "STATEN ISLAND           38911  5 days 00:57:16.541826218   \n",
       "\n",
       "                                                            \\\n",
       "                                      std              min   \n",
       "Borough                                                      \n",
       "BRONX          10 days 19:29:45.763262275  0 days 00:00:00   \n",
       "BROOKLYN       11 days 20:44:39.914032332  0 days 00:00:00   \n",
       "MANHATTAN      12 days 01:57:03.858305020  0 days 00:00:00   \n",
       "QUEENS         13 days 02:00:32.516708357  0 days 00:00:00   \n",
       "STATEN ISLAND  12 days 00:18:49.372858600  0 days 00:00:00   \n",
       "\n",
       "                                                               \\\n",
       "                                  25%                     50%   \n",
       "Borough                                                         \n",
       "BRONX          0 days 05:48:38.250000         1 days 21:27:00   \n",
       "BROOKLYN       0 days 02:33:20.500000         0 days 20:19:00   \n",
       "MANHATTAN             0 days 02:03:43  0 days 22:13:02.500000   \n",
       "QUEENS                0 days 02:07:59         0 days 10:15:11   \n",
       "STATEN ISLAND         0 days 02:54:00         0 days 22:11:06   \n",
       "\n",
       "                                                          \n",
       "                                  75%                max  \n",
       "Borough                                                   \n",
       "BRONX          5 days 19:48:12.750000  145 days 00:23:57  \n",
       "BROOKLYN              4 days 05:20:01  146 days 17:26:50  \n",
       "MANHATTAN      4 days 11:06:08.500000  139 days 22:41:59  \n",
       "QUEENS                3 days 20:47:00  148 days 13:10:54  \n",
       "STATEN ISLAND         4 days 15:24:28  139 days 22:06:35  "
      ]
     },
     "execution_count": 49,
     "metadata": {},
     "output_type": "execute_result"
    }
   ],
   "source": [
    "grouped.describe()"
   ]
  },
  {
   "cell_type": "markdown",
   "metadata": {},
   "source": [
    "<h3>But it is easier to convert the timedelta processing_time into floats for calculation purposes</h3>\n",
    "<li>numpy uses a datetime64 datatype for times</li>\n",
    "<li>pandas uses its own timestamping format</li>"
   ]
  },
  {
   "cell_type": "code",
   "execution_count": 50,
   "metadata": {},
   "outputs": [
    {
     "name": "stdout",
     "output_type": "stream",
     "text": [
      "<class 'pandas._libs.tslibs.timestamps.Timestamp'>\n",
      "<class 'pandas._libs.tslibs.timedeltas.Timedelta'>\n"
     ]
    }
   ],
   "source": [
    "print(type(df['Created Date'].iloc[0]))\n",
    "print(type(df['processing_time'].iloc[0]))"
   ]
  },
  {
   "cell_type": "markdown",
   "metadata": {},
   "source": [
    "<h4>Converting a pandas timedelta to float</h4>\n",
    "<li>Since our time is in days, we'll divide each processing time by 1 Day and return a float version of the time"
   ]
  },
  {
   "cell_type": "code",
   "execution_count": 51,
   "metadata": {},
   "outputs": [],
   "source": [
    "import numpy as np\n",
    "#The time it takes to process. Cleaned up\n",
    "df['float_time'] =df['processing_time'].apply(lambda x:x/np.timedelta64(1, 'D'))"
   ]
  },
  {
   "cell_type": "code",
   "execution_count": 52,
   "metadata": {},
   "outputs": [
    {
     "data": {
      "text/html": [
       "<div>\n",
       "<style scoped>\n",
       "    .dataframe tbody tr th:only-of-type {\n",
       "        vertical-align: middle;\n",
       "    }\n",
       "\n",
       "    .dataframe tbody tr th {\n",
       "        vertical-align: top;\n",
       "    }\n",
       "\n",
       "    .dataframe thead th {\n",
       "        text-align: right;\n",
       "    }\n",
       "</style>\n",
       "<table border=\"1\" class=\"dataframe\">\n",
       "  <thead>\n",
       "    <tr style=\"text-align: right;\">\n",
       "      <th></th>\n",
       "      <th>Created Date</th>\n",
       "      <th>Closed Date</th>\n",
       "      <th>Agency</th>\n",
       "      <th>Incident Zip</th>\n",
       "      <th>Borough</th>\n",
       "      <th>Latitude</th>\n",
       "      <th>Longitude</th>\n",
       "      <th>processing_time</th>\n",
       "      <th>yyyymm</th>\n",
       "      <th>float_time</th>\n",
       "    </tr>\n",
       "    <tr>\n",
       "      <th>Unique Key</th>\n",
       "      <th></th>\n",
       "      <th></th>\n",
       "      <th></th>\n",
       "      <th></th>\n",
       "      <th></th>\n",
       "      <th></th>\n",
       "      <th></th>\n",
       "      <th></th>\n",
       "      <th></th>\n",
       "      <th></th>\n",
       "    </tr>\n",
       "  </thead>\n",
       "  <tbody>\n",
       "    <tr>\n",
       "      <th>11</th>\n",
       "      <td>2016-09-01 00:33:42</td>\n",
       "      <td>2016-09-16 01:06:56</td>\n",
       "      <td>DCA</td>\n",
       "      <td>10001</td>\n",
       "      <td>MANHATTAN</td>\n",
       "      <td>40.744790</td>\n",
       "      <td>-73.988834</td>\n",
       "      <td>15 days 00:33:14</td>\n",
       "      <td>201609</td>\n",
       "      <td>15.023079</td>\n",
       "    </tr>\n",
       "    <tr>\n",
       "      <th>12</th>\n",
       "      <td>2016-09-01 20:16:24</td>\n",
       "      <td>2016-09-10 18:08:25</td>\n",
       "      <td>HPD</td>\n",
       "      <td>11691</td>\n",
       "      <td>QUEENS</td>\n",
       "      <td>40.600554</td>\n",
       "      <td>-73.750704</td>\n",
       "      <td>8 days 21:52:01</td>\n",
       "      <td>201609</td>\n",
       "      <td>8.911123</td>\n",
       "    </tr>\n",
       "    <tr>\n",
       "      <th>13</th>\n",
       "      <td>2016-09-01 12:17:00</td>\n",
       "      <td>2016-09-07 12:00:00</td>\n",
       "      <td>DSNY</td>\n",
       "      <td>11211</td>\n",
       "      <td>BROOKLYN</td>\n",
       "      <td>40.704925</td>\n",
       "      <td>-73.962007</td>\n",
       "      <td>5 days 23:43:00</td>\n",
       "      <td>201609</td>\n",
       "      <td>5.988194</td>\n",
       "    </tr>\n",
       "    <tr>\n",
       "      <th>14</th>\n",
       "      <td>2016-09-01 12:10:22</td>\n",
       "      <td>2016-09-10 14:23:44</td>\n",
       "      <td>HPD</td>\n",
       "      <td>10027</td>\n",
       "      <td>MANHATTAN</td>\n",
       "      <td>40.812322</td>\n",
       "      <td>-73.955338</td>\n",
       "      <td>9 days 02:13:22</td>\n",
       "      <td>201609</td>\n",
       "      <td>9.092616</td>\n",
       "    </tr>\n",
       "    <tr>\n",
       "      <th>15</th>\n",
       "      <td>2016-09-01 12:32:32</td>\n",
       "      <td>2016-09-11 02:03:37</td>\n",
       "      <td>HPD</td>\n",
       "      <td>10452</td>\n",
       "      <td>BRONX</td>\n",
       "      <td>40.839529</td>\n",
       "      <td>-73.922534</td>\n",
       "      <td>9 days 13:31:05</td>\n",
       "      <td>201609</td>\n",
       "      <td>9.563252</td>\n",
       "    </tr>\n",
       "    <tr>\n",
       "      <th>...</th>\n",
       "      <td>...</td>\n",
       "      <td>...</td>\n",
       "      <td>...</td>\n",
       "      <td>...</td>\n",
       "      <td>...</td>\n",
       "      <td>...</td>\n",
       "      <td>...</td>\n",
       "      <td>...</td>\n",
       "      <td>...</td>\n",
       "      <td>...</td>\n",
       "    </tr>\n",
       "    <tr>\n",
       "      <th>971059</th>\n",
       "      <td>2016-09-20 15:02:25</td>\n",
       "      <td>2016-09-24 09:33:13</td>\n",
       "      <td>HPD</td>\n",
       "      <td>10469</td>\n",
       "      <td>BRONX</td>\n",
       "      <td>40.877527</td>\n",
       "      <td>-73.847712</td>\n",
       "      <td>3 days 18:30:48</td>\n",
       "      <td>201609</td>\n",
       "      <td>3.771389</td>\n",
       "    </tr>\n",
       "    <tr>\n",
       "      <th>971060</th>\n",
       "      <td>2016-09-20 11:36:47</td>\n",
       "      <td>2016-10-21 20:02:42</td>\n",
       "      <td>HPD</td>\n",
       "      <td>10029</td>\n",
       "      <td>MANHATTAN</td>\n",
       "      <td>40.791709</td>\n",
       "      <td>-73.937064</td>\n",
       "      <td>31 days 08:25:55</td>\n",
       "      <td>201609</td>\n",
       "      <td>31.351331</td>\n",
       "    </tr>\n",
       "    <tr>\n",
       "      <th>971061</th>\n",
       "      <td>2016-09-20 16:41:40</td>\n",
       "      <td>2016-09-24 09:41:28</td>\n",
       "      <td>HPD</td>\n",
       "      <td>10460</td>\n",
       "      <td>BRONX</td>\n",
       "      <td>40.833706</td>\n",
       "      <td>-73.895943</td>\n",
       "      <td>3 days 16:59:48</td>\n",
       "      <td>201609</td>\n",
       "      <td>3.708194</td>\n",
       "    </tr>\n",
       "    <tr>\n",
       "      <th>971062</th>\n",
       "      <td>2016-09-20 11:36:46</td>\n",
       "      <td>2016-10-21 20:02:41</td>\n",
       "      <td>HPD</td>\n",
       "      <td>10029</td>\n",
       "      <td>MANHATTAN</td>\n",
       "      <td>40.791709</td>\n",
       "      <td>-73.937064</td>\n",
       "      <td>31 days 08:25:55</td>\n",
       "      <td>201609</td>\n",
       "      <td>31.351331</td>\n",
       "    </tr>\n",
       "    <tr>\n",
       "      <th>971063</th>\n",
       "      <td>2016-09-20 13:41:33</td>\n",
       "      <td>2016-10-11 02:04:05</td>\n",
       "      <td>HPD</td>\n",
       "      <td>11432</td>\n",
       "      <td>QUEENS</td>\n",
       "      <td>40.711279</td>\n",
       "      <td>-73.788951</td>\n",
       "      <td>20 days 12:22:32</td>\n",
       "      <td>201609</td>\n",
       "      <td>20.515648</td>\n",
       "    </tr>\n",
       "  </tbody>\n",
       "</table>\n",
       "<p>799323 rows × 10 columns</p>\n",
       "</div>"
      ],
      "text/plain": [
       "                  Created Date         Closed Date Agency Incident Zip  \\\n",
       "Unique Key                                                               \n",
       "11         2016-09-01 00:33:42 2016-09-16 01:06:56    DCA        10001   \n",
       "12         2016-09-01 20:16:24 2016-09-10 18:08:25    HPD        11691   \n",
       "13         2016-09-01 12:17:00 2016-09-07 12:00:00   DSNY        11211   \n",
       "14         2016-09-01 12:10:22 2016-09-10 14:23:44    HPD        10027   \n",
       "15         2016-09-01 12:32:32 2016-09-11 02:03:37    HPD        10452   \n",
       "...                        ...                 ...    ...          ...   \n",
       "971059     2016-09-20 15:02:25 2016-09-24 09:33:13    HPD        10469   \n",
       "971060     2016-09-20 11:36:47 2016-10-21 20:02:42    HPD        10029   \n",
       "971061     2016-09-20 16:41:40 2016-09-24 09:41:28    HPD        10460   \n",
       "971062     2016-09-20 11:36:46 2016-10-21 20:02:41    HPD        10029   \n",
       "971063     2016-09-20 13:41:33 2016-10-11 02:04:05    HPD        11432   \n",
       "\n",
       "              Borough   Latitude  Longitude  processing_time  yyyymm  \\\n",
       "Unique Key                                                             \n",
       "11          MANHATTAN  40.744790 -73.988834 15 days 00:33:14  201609   \n",
       "12             QUEENS  40.600554 -73.750704  8 days 21:52:01  201609   \n",
       "13           BROOKLYN  40.704925 -73.962007  5 days 23:43:00  201609   \n",
       "14          MANHATTAN  40.812322 -73.955338  9 days 02:13:22  201609   \n",
       "15              BRONX  40.839529 -73.922534  9 days 13:31:05  201609   \n",
       "...               ...        ...        ...              ...     ...   \n",
       "971059          BRONX  40.877527 -73.847712  3 days 18:30:48  201609   \n",
       "971060      MANHATTAN  40.791709 -73.937064 31 days 08:25:55  201609   \n",
       "971061          BRONX  40.833706 -73.895943  3 days 16:59:48  201609   \n",
       "971062      MANHATTAN  40.791709 -73.937064 31 days 08:25:55  201609   \n",
       "971063         QUEENS  40.711279 -73.788951 20 days 12:22:32  201609   \n",
       "\n",
       "            float_time  \n",
       "Unique Key              \n",
       "11           15.023079  \n",
       "12            8.911123  \n",
       "13            5.988194  \n",
       "14            9.092616  \n",
       "15            9.563252  \n",
       "...                ...  \n",
       "971059        3.771389  \n",
       "971060       31.351331  \n",
       "971061        3.708194  \n",
       "971062       31.351331  \n",
       "971063       20.515648  \n",
       "\n",
       "[799323 rows x 10 columns]"
      ]
     },
     "execution_count": 52,
     "metadata": {},
     "output_type": "execute_result"
    }
   ],
   "source": [
    "df"
   ]
  },
  {
   "cell_type": "markdown",
   "metadata": {},
   "source": [
    "<h2>Group the data and compute statistics</h2>"
   ]
  },
  {
   "cell_type": "code",
   "execution_count": 53,
   "metadata": {},
   "outputs": [
    {
     "data": {
      "text/html": [
       "<div>\n",
       "<style scoped>\n",
       "    .dataframe tbody tr th:only-of-type {\n",
       "        vertical-align: middle;\n",
       "    }\n",
       "\n",
       "    .dataframe tbody tr th {\n",
       "        vertical-align: top;\n",
       "    }\n",
       "\n",
       "    .dataframe thead th {\n",
       "        text-align: right;\n",
       "    }\n",
       "</style>\n",
       "<table border=\"1\" class=\"dataframe\">\n",
       "  <thead>\n",
       "    <tr style=\"text-align: right;\">\n",
       "      <th></th>\n",
       "      <th>float_time</th>\n",
       "    </tr>\n",
       "    <tr>\n",
       "      <th>Agency</th>\n",
       "      <th></th>\n",
       "    </tr>\n",
       "  </thead>\n",
       "  <tbody>\n",
       "    <tr>\n",
       "      <th>EDC</th>\n",
       "      <td>49.604041</td>\n",
       "    </tr>\n",
       "    <tr>\n",
       "      <th>FDNY</th>\n",
       "      <td>32.995208</td>\n",
       "    </tr>\n",
       "    <tr>\n",
       "      <th>DPR</th>\n",
       "      <td>24.395774</td>\n",
       "    </tr>\n",
       "    <tr>\n",
       "      <th>TLC</th>\n",
       "      <td>24.196724</td>\n",
       "    </tr>\n",
       "    <tr>\n",
       "      <th>DOITT</th>\n",
       "      <td>18.300134</td>\n",
       "    </tr>\n",
       "    <tr>\n",
       "      <th>DOHMH</th>\n",
       "      <td>15.897552</td>\n",
       "    </tr>\n",
       "    <tr>\n",
       "      <th>DOB</th>\n",
       "      <td>12.345634</td>\n",
       "    </tr>\n",
       "    <tr>\n",
       "      <th>DOE</th>\n",
       "      <td>11.360792</td>\n",
       "    </tr>\n",
       "    <tr>\n",
       "      <th>DCA</th>\n",
       "      <td>9.254590</td>\n",
       "    </tr>\n",
       "    <tr>\n",
       "      <th>HPD</th>\n",
       "      <td>8.799452</td>\n",
       "    </tr>\n",
       "    <tr>\n",
       "      <th>DFTA</th>\n",
       "      <td>8.465869</td>\n",
       "    </tr>\n",
       "    <tr>\n",
       "      <th>DOT</th>\n",
       "      <td>4.447129</td>\n",
       "    </tr>\n",
       "    <tr>\n",
       "      <th>DEP</th>\n",
       "      <td>3.520583</td>\n",
       "    </tr>\n",
       "    <tr>\n",
       "      <th>DSNY</th>\n",
       "      <td>3.052327</td>\n",
       "    </tr>\n",
       "    <tr>\n",
       "      <th>DOF</th>\n",
       "      <td>2.728715</td>\n",
       "    </tr>\n",
       "    <tr>\n",
       "      <th>DHS</th>\n",
       "      <td>0.207951</td>\n",
       "    </tr>\n",
       "    <tr>\n",
       "      <th>NYPD</th>\n",
       "      <td>0.205126</td>\n",
       "    </tr>\n",
       "    <tr>\n",
       "      <th>3-1-1</th>\n",
       "      <td>0.016513</td>\n",
       "    </tr>\n",
       "  </tbody>\n",
       "</table>\n",
       "</div>"
      ],
      "text/plain": [
       "        float_time\n",
       "Agency            \n",
       "EDC      49.604041\n",
       "FDNY     32.995208\n",
       "DPR      24.395774\n",
       "TLC      24.196724\n",
       "DOITT    18.300134\n",
       "DOHMH    15.897552\n",
       "DOB      12.345634\n",
       "DOE      11.360792\n",
       "DCA       9.254590\n",
       "HPD       8.799452\n",
       "DFTA      8.465869\n",
       "DOT       4.447129\n",
       "DEP       3.520583\n",
       "DSNY      3.052327\n",
       "DOF       2.728715\n",
       "DHS       0.207951\n",
       "NYPD      0.205126\n",
       "3-1-1     0.016513"
      ]
     },
     "execution_count": 53,
     "metadata": {},
     "output_type": "execute_result"
    }
   ],
   "source": [
    "grouped = df[['float_time','Agency']].groupby('Agency')\n",
    "grouped.mean().sort_values('float_time',ascending=False)"
   ]
  },
  {
   "cell_type": "code",
   "execution_count": 54,
   "metadata": {},
   "outputs": [
    {
     "data": {
      "text/plain": [
       "<AxesSubplot:>"
      ]
     },
     "execution_count": 54,
     "metadata": {},
     "output_type": "execute_result"
    },
    {
     "data": {
      "image/png": "[encoded data removed]",
      "text/plain": [
       "<Figure size 432x288 with 1 Axes>"
      ]
     },
     "metadata": {
      "needs_background": "light"
     },
     "output_type": "display_data"
    }
   ],
   "source": [
    "df['float_time'].hist(bins=50)"
   ]
  },
  {
   "cell_type": "markdown",
   "metadata": {},
   "source": [
    "<h2>Visualizing distributions</h2>\n",
    "<li>Count incidents by time buckets\n",
    "<li>Graph it\n",
    "<li>Overlay a distribution curve"
   ]
  },
  {
   "cell_type": "markdown",
   "metadata": {},
   "source": [
    "<h2>Try this!</h2>\n",
    "<li>Create a new column 'hour of day' that buckets Created Date into 0..23\n",
    "<li>Then group the data by hour of day\n",
    "<li>Plot the size of the data by hour of day\n",
    "<li>Plot the mean processing time of the data by hour of day\n",
    "<li>Are there any hourly differences?"
   ]
  },
  {
   "cell_type": "markdown",
   "metadata": {},
   "source": [
    "<h4>Create a new \"hour of day\" column</h4>"
   ]
  },
  {
   "cell_type": "code",
   "execution_count": 55,
   "metadata": {},
   "outputs": [],
   "source": [
    "df['hour of day'] = df['Created Date'].apply(lambda x:x.hour)\n",
    "#plot size by hour of day\n"
   ]
  },
  {
   "cell_type": "code",
   "execution_count": 56,
   "metadata": {},
   "outputs": [],
   "source": [
    "#plot average by hour of day"
   ]
  },
  {
   "cell_type": "markdown",
   "metadata": {},
   "source": [
    "<h2>Seaborn</h2>\n",
    "<li>A library for visualizing statistical functions\n",
    "<li>https://seaborn.pydata.org"
   ]
  },
  {
   "cell_type": "code",
   "execution_count": 57,
   "metadata": {},
   "outputs": [
    {
     "name": "stderr",
     "output_type": "stream",
     "text": [
      "/Users/umenon/opt/anaconda3/envs/data-analytics/lib/python3.9/site-packages/seaborn/distributions.py:2619: FutureWarning: `distplot` is a deprecated function and will be removed in a future version. Please adapt your code to use either `displot` (a figure-level function with similar flexibility) or `histplot` (an axes-level function for histograms).\n",
      "  warnings.warn(msg, FutureWarning)\n"
     ]
    },
    {
     "data": {
      "text/plain": [
       "<AxesSubplot:xlabel='hour of day', ylabel='Density'>"
      ]
     },
     "execution_count": 57,
     "metadata": {},
     "output_type": "execute_result"
    },
    {
     "data": {
      "image/png": "[encoded data removed]",
      "text/plain": [
       "<Figure size 432x288 with 1 Axes>"
      ]
     },
     "metadata": {
      "needs_background": "light"
     },
     "output_type": "display_data"
    }
   ],
   "source": [
    "import seaborn as sns\n",
    "sns.distplot(df['hour of day'])"
   ]
  },
  {
   "cell_type": "markdown",
   "metadata": {},
   "source": [
    "<h4>Looks like our \"complaints\" day runs from 5 am to 5am</h4>\n",
    "<li>Let's move the data by 5\n",
    "<li>And we'll superimpose a gamma (normal) curve on the data"
   ]
  },
  {
   "cell_type": "code",
   "execution_count": 58,
   "metadata": {},
   "outputs": [
    {
     "name": "stderr",
     "output_type": "stream",
     "text": [
      "/Users/umenon/opt/anaconda3/envs/data-analytics/lib/python3.9/site-packages/seaborn/distributions.py:2619: FutureWarning: `distplot` is a deprecated function and will be removed in a future version. Please adapt your code to use either `displot` (a figure-level function with similar flexibility) or `histplot` (an axes-level function for histograms).\n",
      "  warnings.warn(msg, FutureWarning)\n"
     ]
    },
    {
     "data": {
      "text/plain": [
       "<AxesSubplot:xlabel='hour of day', ylabel='Density'>"
      ]
     },
     "execution_count": 58,
     "metadata": {},
     "output_type": "execute_result"
    },
    {
     "data": {
      "image/png": "[encoded data removed]",
      "text/plain": [
       "<Figure size 432x288 with 1 Axes>"
      ]
     },
     "metadata": {
      "needs_background": "light"
     },
     "output_type": "display_data"
    }
   ],
   "source": [
    "from scipy import stats\n",
    "sns.distplot(df['hour of day'].apply(lambda x: x if x>3 else x+24),kde=True,fit=stats.gamma)\n"
   ]
  },
  {
   "cell_type": "code",
   "execution_count": 59,
   "metadata": {},
   "outputs": [
    {
     "name": "stderr",
     "output_type": "stream",
     "text": [
      "/Users/umenon/opt/anaconda3/envs/data-analytics/lib/python3.9/site-packages/seaborn/distributions.py:2619: FutureWarning: `distplot` is a deprecated function and will be removed in a future version. Please adapt your code to use either `displot` (a figure-level function with similar flexibility) or `histplot` (an axes-level function for histograms).\n",
      "  warnings.warn(msg, FutureWarning)\n"
     ]
    },
    {
     "data": {
      "text/plain": [
       "<AxesSubplot:xlabel='hour of day', ylabel='Density'>"
      ]
     },
     "execution_count": 59,
     "metadata": {},
     "output_type": "execute_result"
    },
    {
     "data": {
      "image/png": "[encoded data removed]",
      "text/plain": [
       "<Figure size 432x288 with 1 Axes>"
      ]
     },
     "metadata": {
      "needs_background": "light"
     },
     "output_type": "display_data"
    }
   ],
   "source": [
    "sns.distplot(df['hour of day'].apply(lambda x: x if x>3 else x+24),kde=True)"
   ]
  },
  {
   "cell_type": "markdown",
   "metadata": {
    "collapsed": true
   },
   "source": [
    "<h1>Other useful visualization libraries</h1>\n",
    "<h2>seaborn: https://seaborn.pydata.org/</h2>\n",
    "<h2>bokeh: http://bokeh.pydata.org/en/latest/</h2>\n",
    "<h2>plotly: https://plot.ly/</h2>\n"
   ]
  },
  {
   "cell_type": "code",
   "execution_count": null,
   "metadata": {},
   "outputs": [],
   "source": []
  }
 ],
 "metadata": {
  "anaconda-cloud": {},
  "kernelspec": {
   "display_name": "Python 3 (ipykernel)",
   "language": "python",
   "name": "python3"
  },
  "language_info": {
   "codemirror_mode": {
    "name": "ipython",
    "version": 3
   },
   "file_extension": ".py",
   "mimetype": "text/x-python",
   "name": "python",
   "nbconvert_exporter": "python",
   "pygments_lexer": "ipython3",
   "version": "3.9.7"
  }
 },
 "nbformat": 4,
 "nbformat_minor": 1
}
