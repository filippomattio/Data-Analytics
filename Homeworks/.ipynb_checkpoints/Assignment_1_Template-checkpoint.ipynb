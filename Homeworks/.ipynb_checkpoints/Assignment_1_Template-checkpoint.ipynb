{
 "cells": [
  {
   "cell_type": "markdown",
   "metadata": {},
   "source": [
    "<h1>Problem 1: Part 1</h1>"
   ]
  },
  {
   "cell_type": "code",
   "execution_count": 1,
   "metadata": {},
   "outputs": [],
   "source": [
    "def preceding(char):\n",
    "    coded_char=\"\"\n",
    "    for cc in char:\n",
    "        if cc.isalpha():\n",
    "            if cc == 'a':\n",
    "                coded_char += 'z'\n",
    "            elif cc == 'A':\n",
    "                coded_char += 'Z'\n",
    "            else:\n",
    "                coded_char += chr(ord(cc)-1)\n",
    "\n",
    "        else:\n",
    "            coded_char += cc\n",
    "    \n",
    "    return coded_char"
   ]
  },
  {
   "cell_type": "code",
   "execution_count": 2,
   "metadata": {},
   "outputs": [
    {
     "name": "stdout",
     "output_type": "stream",
     "text": [
      "z\n",
      "a\n",
      "!\n"
     ]
    }
   ],
   "source": [
    "print(preceding('a')) #Should print z\n",
    "print(preceding('b')) #Should print a\n",
    "print(preceding('!')) #Should print !"
   ]
  },
  {
   "cell_type": "markdown",
   "metadata": {},
   "source": [
    "<h1>Problem 1: Part 2</h1>\n"
   ]
  },
  {
   "cell_type": "code",
   "execution_count": 3,
   "metadata": {},
   "outputs": [],
   "source": [
    "def succeeding(char):\n",
    "    coded_char=\"\"\n",
    "    for cc in char:\n",
    "        if cc.isalpha():\n",
    "            if cc == 'z':\n",
    "                coded_char += 'a'\n",
    "            elif cc == 'Z':\n",
    "                coded_char += 'A'\n",
    "            else:\n",
    "                coded_char += chr(ord(cc)+1)\n",
    "        else:\n",
    "            coded_char += cc\n",
    "\n",
    "    return coded_char    "
   ]
  },
  {
   "cell_type": "code",
   "execution_count": 4,
   "metadata": {},
   "outputs": [
    {
     "name": "stdout",
     "output_type": "stream",
     "text": [
      "a\n",
      "c\n",
      "!\n"
     ]
    }
   ],
   "source": [
    "print(succeeding('z')) #Should print a\n",
    "print(succeeding('b')) #Should print c\n",
    "print(succeeding('!')) #Should print !"
   ]
  },
  {
   "cell_type": "markdown",
   "metadata": {},
   "source": [
    "<h1>Problem 1: Part 3</h1>"
   ]
  },
  {
   "cell_type": "code",
   "execution_count": 5,
   "metadata": {},
   "outputs": [],
   "source": [
    "def message_coder(message_string,function):\n",
    "    coded_message = function(message_string)\n",
    "    \n",
    "    #Code goes here\n",
    "    \n",
    "    return coded_message"
   ]
  },
  {
   "cell_type": "markdown",
   "metadata": {},
   "source": [
    "<h3>Test <b>preceding</b> and <b>succeeding</b> and <b>message_coder</h3>"
   ]
  },
  {
   "cell_type": "code",
   "execution_count": 7,
   "metadata": {},
   "outputs": [
    {
     "name": "stdout",
     "output_type": "stream",
     "text": [
      "gdkkn cnkkx ydaqz!\n",
      "ifmmp epmmz afcsb!\n"
     ]
    }
   ],
   "source": [
    "print(message_coder('hello dolly zebra!',preceding))# prints 'gdkkn cnkkx ydaqz!’\n",
    "\n",
    "print(message_coder('hello dolly zebra!',succeeding))# prints 'ifmmp epmmz afcsb!’\n"
   ]
  },
  {
   "cell_type": "markdown",
   "metadata": {},
   "source": [
    "<h1>Problem 2: Word Count</h2>"
   ]
  },
  {
   "cell_type": "code",
   "execution_count": 8,
   "metadata": {},
   "outputs": [],
   "source": [
    "def word_distribution(text_string,word_list=[]):\n",
    "    frequency_dict = dict()\n",
    "    #Code goes here\n",
    "    if word_list:\n",
    "        for i in range(len(word_list)):\n",
    "            word_list[i] = word_list[i].lower()\n",
    "            frequency_dict[word_list[i]]=0\n",
    "            if not word_list[i][-1].isalpha():\n",
    "                word_list[i] = word_list[i][:-1]\n",
    "        \n",
    "    for ss in text_string.split():\n",
    "        ss = ss.lower()\n",
    "        if not ss[-1].isalpha():\n",
    "            ss = ss[:-1]\n",
    "        actual = frequency_dict.get(ss)\n",
    "        if word_list:\n",
    "            if ss in word_list:\n",
    "                if actual:\n",
    "                    frequency_dict[ss]+=1\n",
    "                else:\n",
    "                    frequency_dict[ss]=1\n",
    "        else:\n",
    "            if actual:\n",
    "                frequency_dict[ss]+=1\n",
    "            else:\n",
    "                frequency_dict[ss]=1\n",
    "    return frequency_dict\n"
   ]
  },
  {
   "cell_type": "code",
   "execution_count": null,
   "metadata": {},
   "outputs": [],
   "source": []
  },
  {
   "cell_type": "markdown",
   "metadata": {},
   "source": [
    "<h3>Test <b>word_distribution</b></h3>\n"
   ]
  },
  {
   "cell_type": "code",
   "execution_count": 10,
   "metadata": {},
   "outputs": [
    {
     "name": "stdout",
     "output_type": "stream",
     "text": [
      "{'ciao': 3}\n"
     ]
    }
   ],
   "source": [
    "text_string = \"Ciao ciao ciao\"\n",
    "print(word_distribution(text_string)) #should print {‘hello’: 2, ‘how’:1, ‘are’:1, ‘you’:2,’please’:1, “don’t”: 1 …}\n"
   ]
  },
  {
   "cell_type": "code",
   "execution_count": 11,
   "metadata": {},
   "outputs": [
    {
     "name": "stdout",
     "output_type": "stream",
     "text": [
      "{'i': 3, 'saw': 1, 'britain': 0, 'conquered': 1}\n"
     ]
    }
   ],
   "source": [
    "text_string = 'I came, I saw, I conquered!'\n",
    "print(word_distribution(text_string,word_list=['I','saw','Britain','conquered'])) # prints {‘i’:3,’saw’:1,’britain':0}\n"
   ]
  },
  {
   "cell_type": "code",
   "execution_count": null,
   "metadata": {},
   "outputs": [],
   "source": []
  }
 ],
 "metadata": {
  "kernelspec": {
   "display_name": "Python 3 (ipykernel)",
   "language": "python",
   "name": "python3"
  },
  "language_info": {
   "codemirror_mode": {
    "name": "ipython",
    "version": 3
   },
   "file_extension": ".py",
   "mimetype": "text/x-python",
   "name": "python",
   "nbconvert_exporter": "python",
   "pygments_lexer": "ipython3",
   "version": "3.9.12"
  },
  "varInspector": {
   "cols": {
    "lenName": 16,
    "lenType": 16,
    "lenVar": 40
   },
   "kernels_config": {
    "python": {
     "delete_cmd_postfix": "",
     "delete_cmd_prefix": "del ",
     "library": "var_list.py",
     "varRefreshCmd": "print(var_dic_list())"
    },
    "r": {
     "delete_cmd_postfix": ") ",
     "delete_cmd_prefix": "rm(",
     "library": "var_list.r",
     "varRefreshCmd": "cat(var_dic_list()) "
    }
   },
   "types_to_exclude": [
    "module",
    "function",
    "builtin_function_or_method",
    "instance",
    "_Feature"
   ],
   "window_display": false
  }
 },
 "nbformat": 4,
 "nbformat_minor": 2
}
