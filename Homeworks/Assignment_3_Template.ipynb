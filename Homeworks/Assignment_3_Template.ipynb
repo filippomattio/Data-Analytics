{
 "cells": [
  {
   "cell_type": "markdown",
   "metadata": {},
   "source": [
    "<h1>Scraping Fidelity.com</h1>\n",
    "In this assignment, you will scrape data from fidelity.com. The goal of the exercise is to get the latest sector performance data from the US markets, and to get the total market capitalization for each sector. \n",
    "\n",
    "The end result is to write a function: <i>get_us_sector_performance()</i> that will return a list of tuples. Each tuple should correspond to a sector and should contain the following data:\n",
    "<li>the sector name\n",
    "<li>the amount the sector has moved\n",
    "<li>the market capitalization of the sector\n",
    "<li>the market weight of the sector\n",
    "<li>a link to the fidelity page for that sector\n",
    "\n",
    "<p>\n",
    "The data should be sorted by decreasing order of market weight. I.e., the sector with the highest weight should be in the first tuple, etc."
   ]
  },
  {
   "cell_type": "markdown",
   "metadata": {},
   "source": [
    "<h3>Process</h3>\n",
    "<li>Get a list of sectors and the links to the sector detail pages from the url (see function)\n",
    "<li>Loop through the list and call the function <i>get_sector_change_and_market_cap(sector_page_link)</i> for each sector\n",
    "<li>Accumulate the name, the change, the capitalization, the weight and the link for each sector in output_list (see function)\n",
    "<li>Sort the list by market weight"
   ]
  },
  {
   "cell_type": "markdown",
   "metadata": {},
   "source": [
    "<b>Notes:</b>\n",
    "<li>Note that the market weight is a string with a % sign at the back. You will need to get rid of the % and convert the string into a float before you can sort it\n",
    "<li>Your starting data is the url listed below. You need to extract all data, including links to the sector pages, from the page at this url\n",
    "<li>To sort a list of tuples by an arbitrary element, use the example at the bottom of this notebook"
   ]
  },
  {
   "cell_type": "code",
   "execution_count": 1,
   "metadata": {},
   "outputs": [],
   "source": [
    "import requests\n",
    "from bs4 import BeautifulSoup"
   ]
  },
  {
   "cell_type": "code",
   "execution_count": 2,
   "metadata": {},
   "outputs": [],
   "source": [
    "def get_us_sector_performance():\n",
    "    output_list = list()\n",
    "    url = \"https://eresearch.fidelity.com/eresearch/goto/markets_sectors/landing.jhtml\"\n",
    "    short_url = \"https://eresearch.fidelity.com\"\n",
    "        #try to access the web page\n",
    "    try:\n",
    "        response = requests.get(url)\n",
    "        if not response.status_code == 200: #ALWAYS DO IT!!!!\n",
    "            print(\"HTTP error\",response.status_code)\n",
    "    except:\n",
    "        print(\"Something went wrong with requests.get\")\n",
    "\n",
    "        #Get a list of sectors and the links to the sector detail pages from the url \n",
    "    sector_list = []\n",
    "    results_page = BeautifulSoup(response.content,'lxml')\n",
    "    div_tag = results_page.find_all('div',{\"class\":\"heading\"})\n",
    "    for div in div_tag:\n",
    "        name = div.find('a',{\"class\":\"heading1\"})\n",
    "        if name:\n",
    "            link = name.get('href')\n",
    "            link = short_url + str(link)\n",
    "            name = name.get_text()\n",
    "\n",
    "            #call get_sector_change_and_market_cap(sector_page_link)\n",
    "            sector_change,sector_market_cap,sector_market_weight = get_sector_change_and_market_cap(link)\n",
    "\n",
    "            #create the tuple and append to the list\n",
    "            output_list.append((name, sector_change, sector_market_cap, sector_market_weight, link))\n",
    "    output_list = sorted(output_list,key=lambda x: float(x[3]), reverse=True) \n",
    "    return output_list\n",
    "    "
   ]
  },
  {
   "cell_type": "code",
   "execution_count": 3,
   "metadata": {},
   "outputs": [],
   "source": [
    "def get_sector_change_and_market_cap(sector_page_link):\n",
    "    \n",
    "    #this is the function to call into the for loop of get_us_sector_performance()\n",
    "    my_list=[]\n",
    "    try:\n",
    "        response = requests.get(sector_page_link)\n",
    "        if not response.status_code == 200:\n",
    "            print(\"HTTP error\",response.status_code)\n",
    "    except:\n",
    "        print(\"Something went wrong with requests.get\")\n",
    "        return None\n",
    "    results_page = BeautifulSoup(response.content,'lxml')\n",
    "    table = results_page.find('table',{\"class\":\"snapshot-data-tbl\"}).find_all('td')\n",
    "    for td in table:\n",
    "        my_list.append(td.find('span').get_text())\n",
    "    my_list = my_list[:-1]\n",
    "    return my_list[0][:-1], my_list[1], float(my_list[2][:-1])"
   ]
  },
  {
   "cell_type": "code",
   "execution_count": 4,
   "metadata": {},
   "outputs": [
    {
     "data": {
      "text/plain": [
       "('-1.22', '$7.07T', 10.64)"
      ]
     },
     "execution_count": 4,
     "metadata": {},
     "output_type": "execute_result"
    }
   ],
   "source": [
    "#Test get_sector_change_and_market_cap()\n",
    "link = \"https://eresearch.fidelity.com/eresearch/markets_sectors/sectors/sectors_in_market.jhtml?tab=learn&sector=25\"\n",
    "get_sector_change_and_market_cap(link)\n",
    "#Should return (-0.40, '$3.58T', 6.80)\n",
    "#Note that neither the -0.40, nor the 6.80, end with a % sign"
   ]
  },
  {
   "cell_type": "code",
   "execution_count": 5,
   "metadata": {
    "scrolled": false
   },
   "outputs": [
    {
     "data": {
      "text/plain": [
       "[('Information Technology',\n",
       "  '-0.55',\n",
       "  '$13.02T',\n",
       "  27.23,\n",
       "  'https://eresearch.fidelity.com/eresearch/markets_sectors/sectors/sectors_in_market.jhtml?tab=learn&sector=45'),\n",
       " ('Health Care',\n",
       "  '+0.94',\n",
       "  '$7.68T',\n",
       "  14.38,\n",
       "  'https://eresearch.fidelity.com/eresearch/markets_sectors/sectors/sectors_in_market.jhtml?tab=learn&sector=35'),\n",
       " ('Financials',\n",
       "  '+0.40',\n",
       "  '$8.33T',\n",
       "  11.56,\n",
       "  'https://eresearch.fidelity.com/eresearch/markets_sectors/sectors/sectors_in_market.jhtml?tab=learn&sector=40'),\n",
       " ('Consumer Discretionary',\n",
       "  '-1.22',\n",
       "  '$7.07T',\n",
       "  10.64,\n",
       "  'https://eresearch.fidelity.com/eresearch/markets_sectors/sectors/sectors_in_market.jhtml?tab=learn&sector=25'),\n",
       " ('Industrials',\n",
       "  '+0.74',\n",
       "  '$5.47T',\n",
       "  8.34,\n",
       "  'https://eresearch.fidelity.com/eresearch/markets_sectors/sectors/sectors_in_market.jhtml?tab=learn&sector=20'),\n",
       " ('Communication Services',\n",
       "  '-0.89',\n",
       "  '$4.32T',\n",
       "  8.16,\n",
       "  'https://eresearch.fidelity.com/eresearch/markets_sectors/sectors/sectors_in_market.jhtml?tab=learn&sector=50'),\n",
       " ('Consumer Staples',\n",
       "  '+0.93',\n",
       "  '$4.17T',\n",
       "  6.58,\n",
       "  'https://eresearch.fidelity.com/eresearch/markets_sectors/sectors/sectors_in_market.jhtml?tab=learn&sector=30'),\n",
       " ('Energy',\n",
       "  '+3.92',\n",
       "  '$3.76T',\n",
       "  4.76,\n",
       "  'https://eresearch.fidelity.com/eresearch/markets_sectors/sectors/sectors_in_market.jhtml?tab=learn&sector=10'),\n",
       " ('Utilities',\n",
       "  '+2.00',\n",
       "  '$1.55T',\n",
       "  2.84,\n",
       "  'https://eresearch.fidelity.com/eresearch/markets_sectors/sectors/sectors_in_market.jhtml?tab=learn&sector=55'),\n",
       " ('Real Estate',\n",
       "  '+0.27',\n",
       "  '$1.37T',\n",
       "  2.78,\n",
       "  'https://eresearch.fidelity.com/eresearch/markets_sectors/sectors/sectors_in_market.jhtml?tab=learn&sector=60'),\n",
       " ('Materials',\n",
       "  '+0.36',\n",
       "  '$2.50T',\n",
       "  2.72,\n",
       "  'https://eresearch.fidelity.com/eresearch/markets_sectors/sectors/sectors_in_market.jhtml?tab=learn&sector=15')]"
      ]
     },
     "execution_count": 5,
     "metadata": {},
     "output_type": "execute_result"
    }
   ],
   "source": [
    "#Test get_us_sector_performance()\n",
    "get_us_sector_performance()"
   ]
  },
  {
   "cell_type": "code",
   "execution_count": 6,
   "metadata": {},
   "outputs": [
    {
     "data": {
      "text/plain": [
       "\"\\n[('Information Technology',\\n  2.16,\\n  '$14.64T',\\n  28.02,\\n  'https://eresearch.fidelity.com/eresearch/markets_sectors/sectors/sectors_in_market.jhtml?tab=learn&sector=45'),\\n ('Health Care',\\n  0.19,\\n  '$7.60T',\\n  13.22,\\n  'https://eresearch.fidelity.com/eresearch/markets_sectors/sectors/sectors_in_market.jhtml?tab=learn&sector=35'),\\n ('Consumer Discretionary',\\n  1.96,\\n  '$8.32T',\\n  11.94,\\n  'https://eresearch.fidelity.com/eresearch/markets_sectors/sectors/sectors_in_market.jhtml?tab=learn&sector=25'),\\n ('Financials',\\n  0.63,\\n  '$8.83T',\\n  11.32,\\n  'https://eresearch.fidelity.com/eresearch/markets_sectors/sectors/sectors_in_market.jhtml?tab=learn&sector=40'),\\n ('Communication Services',\\n  0.78,\\n  '$5.74T',\\n  10.01,\\n  'https://eresearch.fidelity.com/eresearch/markets_sectors/sectors/sectors_in_market.jhtml?tab=learn&sector=50'),\\n ('Industrials',\\n  0.43,\\n  '$5.58T',\\n  8.06,\\n  'https://eresearch.fidelity.com/eresearch/markets_sectors/sectors/sectors_in_market.jhtml?tab=learn&sector=20'),\\n ('Consumer Staples',\\n  -0.16,\\n  '$4.26T',\\n  6.27,\\n  'https://eresearch.fidelity.com/eresearch/markets_sectors/sectors/sectors_in_market.jhtml?tab=learn&sector=30'),\\n ('Energy',\\n  0.12,\\n  '$3.19T',\\n  3.27,\\n  'https://eresearch.fidelity.com/eresearch/markets_sectors/sectors/sectors_in_market.jhtml?tab=learn&sector=10'),\\n ('Real Estate',\\n  0.69,\\n  '$1.71T',\\n  2.72,\\n  'https://eresearch.fidelity.com/eresearch/markets_sectors/sectors/sectors_in_market.jhtml?tab=learn&sector=60'),\\n ('Utilities',\\n  0.55,\\n  '$1.63T',\\n  2.6,\\n  'https://eresearch.fidelity.com/eresearch/markets_sectors/sectors/sectors_in_market.jhtml?tab=learn&sector=55'),\\n ('Materials',\\n  0.25,\\n  '$2.53T',\\n  2.58,\\n  'https://eresearch.fidelity.com/eresearch/markets_sectors/sectors/sectors_in_market.jhtml?tab=learn&sector=15')]\\n  \\n\""
      ]
     },
     "execution_count": 6,
     "metadata": {},
     "output_type": "execute_result"
    }
   ],
   "source": [
    "#Running the above cell should return (example: obviously the results will vary over time!)\n",
    "\"\"\"\n",
    "[('Information Technology',\n",
    "  2.16,\n",
    "  '$14.64T',\n",
    "  28.02,\n",
    "  'https://eresearch.fidelity.com/eresearch/markets_sectors/sectors/sectors_in_market.jhtml?tab=learn&sector=45'),\n",
    " ('Health Care',\n",
    "  0.19,\n",
    "  '$7.60T',\n",
    "  13.22,\n",
    "  'https://eresearch.fidelity.com/eresearch/markets_sectors/sectors/sectors_in_market.jhtml?tab=learn&sector=35'),\n",
    " ('Consumer Discretionary',\n",
    "  1.96,\n",
    "  '$8.32T',\n",
    "  11.94,\n",
    "  'https://eresearch.fidelity.com/eresearch/markets_sectors/sectors/sectors_in_market.jhtml?tab=learn&sector=25'),\n",
    " ('Financials',\n",
    "  0.63,\n",
    "  '$8.83T',\n",
    "  11.32,\n",
    "  'https://eresearch.fidelity.com/eresearch/markets_sectors/sectors/sectors_in_market.jhtml?tab=learn&sector=40'),\n",
    " ('Communication Services',\n",
    "  0.78,\n",
    "  '$5.74T',\n",
    "  10.01,\n",
    "  'https://eresearch.fidelity.com/eresearch/markets_sectors/sectors/sectors_in_market.jhtml?tab=learn&sector=50'),\n",
    " ('Industrials',\n",
    "  0.43,\n",
    "  '$5.58T',\n",
    "  8.06,\n",
    "  'https://eresearch.fidelity.com/eresearch/markets_sectors/sectors/sectors_in_market.jhtml?tab=learn&sector=20'),\n",
    " ('Consumer Staples',\n",
    "  -0.16,\n",
    "  '$4.26T',\n",
    "  6.27,\n",
    "  'https://eresearch.fidelity.com/eresearch/markets_sectors/sectors/sectors_in_market.jhtml?tab=learn&sector=30'),\n",
    " ('Energy',\n",
    "  0.12,\n",
    "  '$3.19T',\n",
    "  3.27,\n",
    "  'https://eresearch.fidelity.com/eresearch/markets_sectors/sectors/sectors_in_market.jhtml?tab=learn&sector=10'),\n",
    " ('Real Estate',\n",
    "  0.69,\n",
    "  '$1.71T',\n",
    "  2.72,\n",
    "  'https://eresearch.fidelity.com/eresearch/markets_sectors/sectors/sectors_in_market.jhtml?tab=learn&sector=60'),\n",
    " ('Utilities',\n",
    "  0.55,\n",
    "  '$1.63T',\n",
    "  2.6,\n",
    "  'https://eresearch.fidelity.com/eresearch/markets_sectors/sectors/sectors_in_market.jhtml?tab=learn&sector=55'),\n",
    " ('Materials',\n",
    "  0.25,\n",
    "  '$2.53T',\n",
    "  2.58,\n",
    "  'https://eresearch.fidelity.com/eresearch/markets_sectors/sectors/sectors_in_market.jhtml?tab=learn&sector=15')]\n",
    "  \n",
    "\"\"\""
   ]
  },
  {
   "cell_type": "code",
   "execution_count": 7,
   "metadata": {},
   "outputs": [
    {
     "name": "stdout",
     "output_type": "stream",
     "text": [
      "Communication Services\n",
      "Consumer Discretionary\n",
      "Consumer Staples\n",
      "Energy\n",
      "Financials\n",
      "Health Care\n",
      "Industrials\n",
      "Information Technology\n",
      "Materials\n",
      "Real Estate\n",
      "Utilities\n"
     ]
    }
   ],
   "source": [
    "#Print the different sector names from the above output in alpabetical order\n",
    "names_ordered = []\n",
    "for t in get_us_sector_performance():\n",
    "    names_ordered.append(t[0])\n",
    "names_ordered = sorted(names_ordered)\n",
    "for i in names_ordered:\n",
    "    print(i)"
   ]
  },
  {
   "cell_type": "code",
   "execution_count": 8,
   "metadata": {},
   "outputs": [
    {
     "name": "stdout",
     "output_type": "stream",
     "text": [
      "{'Real Estate': '$1.37T', 'Utilities': '$1.55T', 'Materials': '$2.50T', 'Energy': '$3.76T', 'Consumer Staples': '$4.17T', 'Communication Services': '$4.32T', 'Industrials': '$5.47T', 'Consumer Discretionary': '$7.07T', 'Health Care': '$7.68T', 'Financials': '$8.33T', 'Information Technology': '$13.02T'}\n",
      "---\n",
      "Sector with Lowest Market cap: Real Estate with value $1.37T\n"
     ]
    }
   ],
   "source": [
    "### Find the sector with lowest Market cap by creating a dict of all sectors and their market caps\n",
    "##    example of the output. {'Materials': '$2.01T', ...}\n",
    "my_dict = dict()\n",
    "output_list = sorted(get_us_sector_performance(),key=lambda x: float(x[2][1:-1]))\n",
    "for t in output_list:\n",
    "    my_dict[t[0]] = t[2]\n",
    "minimum = min(my_dict, key=my_dict.get)\n",
    "print(my_dict)\n",
    "print(\"---\")\n",
    "print(f\"Sector with Lowest Market cap: {minimum} with value {my_dict[minimum]}\")"
   ]
  },
  {
   "cell_type": "markdown",
   "metadata": {},
   "source": [
    "<h3>Hint: How to sort tuples by an arbitrary element?</h3>"
   ]
  },
  {
   "cell_type": "code",
   "execution_count": 9,
   "metadata": {},
   "outputs": [],
   "source": [
    "x = [('a',23.2,'b'),('c',17.4,'f'),('d',29.2,'z'),('e',1.74,'bb')]\n",
    "#Sort by the first element of the tuple\n"
   ]
  },
  {
   "cell_type": "code",
   "execution_count": 10,
   "metadata": {},
   "outputs": [],
   "source": [
    "x = [('a',23.2,'b'),('c',17.4,'f'),('d',29.2,'z'),('e',1.74,'bb')]\n",
    "#Sort by the element at position 1\n"
   ]
  }
 ],
 "metadata": {
  "kernelspec": {
   "display_name": "Python 3 (ipykernel)",
   "language": "python",
   "name": "python3"
  },
  "language_info": {
   "codemirror_mode": {
    "name": "ipython",
    "version": 3
   },
   "file_extension": ".py",
   "mimetype": "text/x-python",
   "name": "python",
   "nbconvert_exporter": "python",
   "pygments_lexer": "ipython3",
   "version": "3.9.12"
  },
  "varInspector": {
   "cols": {
    "lenName": 16,
    "lenType": 16,
    "lenVar": 40
   },
   "kernels_config": {
    "python": {
     "delete_cmd_postfix": "",
     "delete_cmd_prefix": "del ",
     "library": "var_list.py",
     "varRefreshCmd": "print(var_dic_list())"
    },
    "r": {
     "delete_cmd_postfix": ") ",
     "delete_cmd_prefix": "rm(",
     "library": "var_list.r",
     "varRefreshCmd": "cat(var_dic_list()) "
    }
   },
   "types_to_exclude": [
    "module",
    "function",
    "builtin_function_or_method",
    "instance",
    "_Feature"
   ],
   "window_display": false
  }
 },
 "nbformat": 4,
 "nbformat_minor": 2
}
