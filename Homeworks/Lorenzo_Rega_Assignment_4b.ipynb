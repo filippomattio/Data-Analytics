{
 "cells": [
  {
   "cell_type": "markdown",
   "metadata": {},
   "source": [
    "<h1>Problem 1: Factorials using numpy</h1>\n",
    "<li><b>prod</b> A numpy function that returns the product of all elements in an array\n",
    "<li><b>cumprod</b> A numpy function on an ndarray of size n that returns an array of size n where each element i is the product of all elements from 0 to i\n"
   ]
  },
  {
   "cell_type": "code",
   "execution_count": 16,
   "metadata": {},
   "outputs": [],
   "source": [
    "import numpy as np"
   ]
  },
  {
   "cell_type": "code",
   "execution_count": 17,
   "metadata": {},
   "outputs": [],
   "source": [
    "\"\"\"\n",
    "Replace pass with the code that uses ndarray, prod and cumprod \n",
    "to calculate the factorial of n\n",
    "\n",
    "The function should take an integer as an argument and return an integer\n",
    "\n",
    "\"\"\"\n",
    "def factorial(n):\n",
    "    #pass\n",
    "    if n==0:\n",
    "        return 1\n",
    "    \n",
    "    return np.prod(np.arange(1,n+1))\n",
    "    \n",
    "\n",
    "\n",
    "\n"
   ]
  },
  {
   "cell_type": "code",
   "execution_count": 18,
   "metadata": {},
   "outputs": [],
   "source": [
    "\"\"\"\n",
    "Replace pass with the code that uses ndarray, prod and cumprod to \n",
    "calculate the factorials of all values from 1 to n\n",
    "\n",
    "The function should take an integer as an argument and return an ndarray\n",
    "of size n \n",
    "\n",
    "\"\"\"\n",
    "\n",
    "def all_factorials(n):\n",
    "    #pass\n",
    "    \n",
    "    \n",
    "    if n==0:\n",
    "        return np.array([1])\n",
    "    \n",
    "    \n",
    "    return np.cumprod(np.arange(1,n+1))\n",
    "    \n",
    "    \n",
    "    "
   ]
  },
  {
   "cell_type": "code",
   "execution_count": 19,
   "metadata": {},
   "outputs": [],
   "source": [
    "\"\"\"\n",
    "Replace pass with the code that use ndarray, np.prod, and np.where \n",
    "to calculate the product of elements in array that are divisible by i\n",
    "\n",
    "The function should take an array and an integer(i) as arguments and return an integer\n",
    "\n",
    "\"\"\"\n",
    "def func(array,i):\n",
    "    #pass\n",
    "    if i==0:\n",
    "        return 0\n",
    "    \n",
    "    return np.where( np.array(array)%i == 0, True, False).sum()\n",
    "        \n"
   ]
  },
  {
   "cell_type": "markdown",
   "metadata": {},
   "source": [
    "<h1>Problem 2: Percent changes</h1>\n",
    "Write a function that constructs an ndarray from data in a file and \n",
    "returns a 1-period percent change on an ndarray after removing any nan values. Your function must make use of the following functions:\n",
    "<li>np.genfromtxt: https://docs.scipy.org/doc/numpy-1.13.0/reference/generated/numpy.genfromtxt.html\n",
    "<li>np.diff: https://docs.scipy.org/doc/numpy-1.13.0/reference/generated/numpy.diff.html\n",
    "<li>np.isnan: https://docs.scipy.org/doc/numpy-1.13.0/reference/generated/numpy.isnan.html\n",
    "\n",
    "<p>Test your function out using the attached apple.csv file. Your function can assume that the file structure is (date,price)\n",
    "\n",
    "<p>Note that percent change is defined as (p(t)-p(t-1))/p(t-1)\n",
    "\n",
    "<b>Example:</b><br>\n",
    "If the data array is: np.array([1,2,np.NaN,4,8,np.NAN])\n",
    "<br>\n",
    "The output array should be<br>\n",
    "array([ 1.,  1.,  1.])\n"
   ]
  },
  {
   "cell_type": "code",
   "execution_count": 20,
   "metadata": {},
   "outputs": [
    {
     "data": {
      "text/plain": [
       "array([1., 1., 1.])"
      ]
     },
     "execution_count": 20,
     "metadata": {},
     "output_type": "execute_result"
    }
   ],
   "source": [
    "#just a test\n",
    "arr=np.array([1,2,np.NaN,4,8,np.NAN])\n",
    "\n",
    "#select all of the elements that are not nan\n",
    "arr=arr[~np.isnan(arr)]\n",
    "\n",
    "\n",
    "np.diff(arr)/arr[:-1] \n"
   ]
  },
  {
   "cell_type": "code",
   "execution_count": 21,
   "metadata": {},
   "outputs": [],
   "source": [
    "def get_pct_changes(file_name):\n",
    "    #pass\n",
    "    data= np.genfromtxt(file_name, delimiter=',', skip_header=1)\n",
    "    prices=data[:, 1]\n",
    "    prices=prices[~np.isnan(prices)]\n",
    "    return np.diff(prices)/prices[:-1] \n",
    "    "
   ]
  },
  {
   "cell_type": "code",
   "execution_count": 22,
   "metadata": {},
   "outputs": [
    {
     "data": {
      "text/plain": [
       "array([-0.05217305, -0.07339571,  0.02475207, ..., -0.00977899,\n",
       "       -0.00882215,  0.01720356])"
      ]
     },
     "execution_count": 22,
     "metadata": {},
     "output_type": "execute_result"
    }
   ],
   "source": [
    "get_pct_changes('apple.csv')"
   ]
  },
  {
   "cell_type": "markdown",
   "metadata": {},
   "source": [
    "<h1>Problem 3: Pandas Grouping</h1>\n",
    "Write a program that reads timeseries pricing data from a file into a pandas dataframe and then groups the data as follows:\n",
    "<li>Adds a column, 'one-day percent change' to the file \n",
    "<li>Write a function that groups the data into four categories:\n",
    "<ul>\n",
    "<li>\"High+\" if the percent change is greater than 2.5%\n",
    "<li>\"Low+\" if the percent change is positive and less than or equal to 2.5% \n",
    "<li>\"Low-\" if the percent change is negative but greater than or equal to -2.5%\n",
    "<li>\"High-\" if the percent change is less than -2.5%\n",
    "</ul>\n",
    "<li>Report the size and the mean of each groups in dataframe\n",
    "\n"
   ]
  },
  {
   "cell_type": "code",
   "execution_count": 23,
   "metadata": {},
   "outputs": [],
   "source": [
    "datafile = \"apple.csv\"\n",
    "import pandas as pd\n",
    "df = pd.read_csv('apple.csv',na_values='null')\n",
    "df['Date']=pd.to_datetime(df['Date']) #we change the type to datetime"
   ]
  },
  {
   "cell_type": "code",
   "execution_count": 24,
   "metadata": {},
   "outputs": [
    {
     "data": {
      "text/html": [
       "<div>\n",
       "<style scoped>\n",
       "    .dataframe tbody tr th:only-of-type {\n",
       "        vertical-align: middle;\n",
       "    }\n",
       "\n",
       "    .dataframe tbody tr th {\n",
       "        vertical-align: top;\n",
       "    }\n",
       "\n",
       "    .dataframe thead th {\n",
       "        text-align: right;\n",
       "    }\n",
       "</style>\n",
       "<table border=\"1\" class=\"dataframe\">\n",
       "  <thead>\n",
       "    <tr style=\"text-align: right;\">\n",
       "      <th></th>\n",
       "      <th>Date</th>\n",
       "      <th>Adj Close</th>\n",
       "      <th>one-day percent change</th>\n",
       "    </tr>\n",
       "  </thead>\n",
       "  <tbody>\n",
       "    <tr>\n",
       "      <th>0</th>\n",
       "      <td>1980-12-12</td>\n",
       "      <td>0.421597</td>\n",
       "      <td>NaN</td>\n",
       "    </tr>\n",
       "    <tr>\n",
       "      <th>1</th>\n",
       "      <td>1980-12-15</td>\n",
       "      <td>0.399601</td>\n",
       "      <td>-0.052173</td>\n",
       "    </tr>\n",
       "    <tr>\n",
       "      <th>2</th>\n",
       "      <td>1980-12-16</td>\n",
       "      <td>0.370272</td>\n",
       "      <td>-0.073396</td>\n",
       "    </tr>\n",
       "    <tr>\n",
       "      <th>3</th>\n",
       "      <td>1980-12-17</td>\n",
       "      <td>0.379437</td>\n",
       "      <td>0.024752</td>\n",
       "    </tr>\n",
       "    <tr>\n",
       "      <th>4</th>\n",
       "      <td>1980-12-18</td>\n",
       "      <td>0.390436</td>\n",
       "      <td>0.028988</td>\n",
       "    </tr>\n",
       "    <tr>\n",
       "      <th>...</th>\n",
       "      <td>...</td>\n",
       "      <td>...</td>\n",
       "      <td>...</td>\n",
       "    </tr>\n",
       "    <tr>\n",
       "      <th>9273</th>\n",
       "      <td>2017-09-20</td>\n",
       "      <td>156.070007</td>\n",
       "      <td>-0.016758</td>\n",
       "    </tr>\n",
       "    <tr>\n",
       "      <th>9274</th>\n",
       "      <td>2017-09-21</td>\n",
       "      <td>153.389999</td>\n",
       "      <td>-0.017172</td>\n",
       "    </tr>\n",
       "    <tr>\n",
       "      <th>9275</th>\n",
       "      <td>2017-09-22</td>\n",
       "      <td>151.889999</td>\n",
       "      <td>-0.009779</td>\n",
       "    </tr>\n",
       "    <tr>\n",
       "      <th>9276</th>\n",
       "      <td>2017-09-25</td>\n",
       "      <td>150.550003</td>\n",
       "      <td>-0.008822</td>\n",
       "    </tr>\n",
       "    <tr>\n",
       "      <th>9277</th>\n",
       "      <td>2017-09-26</td>\n",
       "      <td>153.139999</td>\n",
       "      <td>0.017204</td>\n",
       "    </tr>\n",
       "  </tbody>\n",
       "</table>\n",
       "<p>9278 rows × 3 columns</p>\n",
       "</div>"
      ],
      "text/plain": [
       "           Date   Adj Close  one-day percent change\n",
       "0    1980-12-12    0.421597                     NaN\n",
       "1    1980-12-15    0.399601               -0.052173\n",
       "2    1980-12-16    0.370272               -0.073396\n",
       "3    1980-12-17    0.379437                0.024752\n",
       "4    1980-12-18    0.390436                0.028988\n",
       "...         ...         ...                     ...\n",
       "9273 2017-09-20  156.070007               -0.016758\n",
       "9274 2017-09-21  153.389999               -0.017172\n",
       "9275 2017-09-22  151.889999               -0.009779\n",
       "9276 2017-09-25  150.550003               -0.008822\n",
       "9277 2017-09-26  153.139999                0.017204\n",
       "\n",
       "[9278 rows x 3 columns]"
      ]
     },
     "execution_count": 24,
     "metadata": {},
     "output_type": "execute_result"
    }
   ],
   "source": [
    "#Adds column 'one-day percent change'\n",
    "df['one-day percent change']=df['Adj Close'].pct_change()\n",
    "df"
   ]
  },
  {
   "cell_type": "code",
   "execution_count": 25,
   "metadata": {},
   "outputs": [],
   "source": [
    "def GroupColFunc(df, ind, col):\n",
    "    if df[col].loc[ind]>0.025:\n",
    "        return 'High+'\n",
    "    elif df[col].loc[ind]>=0 and df[col].loc[ind]<=0.025:\n",
    "        return 'Low+'\n",
    "    elif df[col].loc[ind]<0 and df[col].loc[ind]>=-0.025:\n",
    "        return 'Low-'\n",
    "    else:\n",
    "        return 'High-'\n"
   ]
  },
  {
   "cell_type": "code",
   "execution_count": 26,
   "metadata": {},
   "outputs": [],
   "source": [
    "grouped = df.groupby(lambda x: GroupColFunc(df=df, ind=x, col='one-day percent change'))\n"
   ]
  },
  {
   "cell_type": "code",
   "execution_count": 27,
   "metadata": {},
   "outputs": [
    {
     "name": "stdout",
     "output_type": "stream",
     "text": [
      "groups size:\n",
      "High+    1391\n",
      "High-    1211\n",
      "Low+     3536\n",
      "Low-     3140\n",
      "dtype: int64\n",
      "\n",
      "\n",
      "groups mean:\n",
      "       Adj Close  one-day percent change\n",
      "High+   8.652295                0.045705\n",
      "High-   8.282568               -0.044220\n",
      "Low+   23.738642                0.009879\n",
      "Low-   24.183470               -0.011171\n"
     ]
    }
   ],
   "source": [
    "#report size and mean\n",
    "print('groups size:')\n",
    "print(grouped.size())\n",
    "print('\\n')\n",
    "print('groups mean:')\n",
    "print(grouped.mean())"
   ]
  },
  {
   "cell_type": "markdown",
   "metadata": {},
   "source": [
    "Write a program that can choose decade and report the size and the mean of each group in dataframe\n",
    "<li>Adds a column 'Decade' to the file (use first three numbers to be value of the decade ex. value for 1980-1989 is '198')  \n",
    "<li>Write a function that have data from a file with decade column and decade as input\n",
    "<li>Call function that you create in the first part to group the data\n",
    "<li>Return dataframe of mean and size for each group of that decade"
   ]
  },
  {
   "cell_type": "code",
   "execution_count": 28,
   "metadata": {
    "scrolled": true
   },
   "outputs": [
    {
     "data": {
      "text/html": [
       "<div>\n",
       "<style scoped>\n",
       "    .dataframe tbody tr th:only-of-type {\n",
       "        vertical-align: middle;\n",
       "    }\n",
       "\n",
       "    .dataframe tbody tr th {\n",
       "        vertical-align: top;\n",
       "    }\n",
       "\n",
       "    .dataframe thead th {\n",
       "        text-align: right;\n",
       "    }\n",
       "</style>\n",
       "<table border=\"1\" class=\"dataframe\">\n",
       "  <thead>\n",
       "    <tr style=\"text-align: right;\">\n",
       "      <th></th>\n",
       "      <th>Date</th>\n",
       "      <th>Adj Close</th>\n",
       "      <th>one-day percent change</th>\n",
       "      <th>Decade</th>\n",
       "    </tr>\n",
       "  </thead>\n",
       "  <tbody>\n",
       "    <tr>\n",
       "      <th>0</th>\n",
       "      <td>1980-12-12</td>\n",
       "      <td>0.421597</td>\n",
       "      <td>NaN</td>\n",
       "      <td>198</td>\n",
       "    </tr>\n",
       "    <tr>\n",
       "      <th>1</th>\n",
       "      <td>1980-12-15</td>\n",
       "      <td>0.399601</td>\n",
       "      <td>-0.052173</td>\n",
       "      <td>198</td>\n",
       "    </tr>\n",
       "    <tr>\n",
       "      <th>2</th>\n",
       "      <td>1980-12-16</td>\n",
       "      <td>0.370272</td>\n",
       "      <td>-0.073396</td>\n",
       "      <td>198</td>\n",
       "    </tr>\n",
       "    <tr>\n",
       "      <th>3</th>\n",
       "      <td>1980-12-17</td>\n",
       "      <td>0.379437</td>\n",
       "      <td>0.024752</td>\n",
       "      <td>198</td>\n",
       "    </tr>\n",
       "    <tr>\n",
       "      <th>4</th>\n",
       "      <td>1980-12-18</td>\n",
       "      <td>0.390436</td>\n",
       "      <td>0.028988</td>\n",
       "      <td>198</td>\n",
       "    </tr>\n",
       "    <tr>\n",
       "      <th>...</th>\n",
       "      <td>...</td>\n",
       "      <td>...</td>\n",
       "      <td>...</td>\n",
       "      <td>...</td>\n",
       "    </tr>\n",
       "    <tr>\n",
       "      <th>9273</th>\n",
       "      <td>2017-09-20</td>\n",
       "      <td>156.070007</td>\n",
       "      <td>-0.016758</td>\n",
       "      <td>201</td>\n",
       "    </tr>\n",
       "    <tr>\n",
       "      <th>9274</th>\n",
       "      <td>2017-09-21</td>\n",
       "      <td>153.389999</td>\n",
       "      <td>-0.017172</td>\n",
       "      <td>201</td>\n",
       "    </tr>\n",
       "    <tr>\n",
       "      <th>9275</th>\n",
       "      <td>2017-09-22</td>\n",
       "      <td>151.889999</td>\n",
       "      <td>-0.009779</td>\n",
       "      <td>201</td>\n",
       "    </tr>\n",
       "    <tr>\n",
       "      <th>9276</th>\n",
       "      <td>2017-09-25</td>\n",
       "      <td>150.550003</td>\n",
       "      <td>-0.008822</td>\n",
       "      <td>201</td>\n",
       "    </tr>\n",
       "    <tr>\n",
       "      <th>9277</th>\n",
       "      <td>2017-09-26</td>\n",
       "      <td>153.139999</td>\n",
       "      <td>0.017204</td>\n",
       "      <td>201</td>\n",
       "    </tr>\n",
       "  </tbody>\n",
       "</table>\n",
       "<p>9278 rows × 4 columns</p>\n",
       "</div>"
      ],
      "text/plain": [
       "           Date   Adj Close  one-day percent change Decade\n",
       "0    1980-12-12    0.421597                     NaN    198\n",
       "1    1980-12-15    0.399601               -0.052173    198\n",
       "2    1980-12-16    0.370272               -0.073396    198\n",
       "3    1980-12-17    0.379437                0.024752    198\n",
       "4    1980-12-18    0.390436                0.028988    198\n",
       "...         ...         ...                     ...    ...\n",
       "9273 2017-09-20  156.070007               -0.016758    201\n",
       "9274 2017-09-21  153.389999               -0.017172    201\n",
       "9275 2017-09-22  151.889999               -0.009779    201\n",
       "9276 2017-09-25  150.550003               -0.008822    201\n",
       "9277 2017-09-26  153.139999                0.017204    201\n",
       "\n",
       "[9278 rows x 4 columns]"
      ]
     },
     "execution_count": 28,
     "metadata": {},
     "output_type": "execute_result"
    }
   ],
   "source": [
    "#adds column 'Decade'\n",
    "df['Decade']=df['Date'].apply(lambda x: str(x.year)[:3])\n",
    "df"
   ]
  },
  {
   "cell_type": "code",
   "execution_count": 29,
   "metadata": {},
   "outputs": [],
   "source": [
    "def report_decade(df,decade):\n",
    "    #Your code goes here\n",
    "    df_decade=df[df['Decade']==decade]\n",
    "    \n",
    "    grouped = df_decade.groupby(lambda x: GroupColFunc(df=df_decade, ind=x, col='one-day percent change'))\n",
    "    \n",
    "    size=pd.Series(grouped.size(), name='Size') #Add name to the series\n",
    "    \n",
    "    result=pd.concat([size, grouped.mean()] , axis=1) #concat the series to make one dataframe\n",
    "    \n",
    "    return result\n",
    "    "
   ]
  },
  {
   "cell_type": "code",
   "execution_count": 30,
   "metadata": {},
   "outputs": [
    {
     "data": {
      "text/html": [
       "<div>\n",
       "<style scoped>\n",
       "    .dataframe tbody tr th:only-of-type {\n",
       "        vertical-align: middle;\n",
       "    }\n",
       "\n",
       "    .dataframe tbody tr th {\n",
       "        vertical-align: top;\n",
       "    }\n",
       "\n",
       "    .dataframe thead th {\n",
       "        text-align: right;\n",
       "    }\n",
       "</style>\n",
       "<table border=\"1\" class=\"dataframe\">\n",
       "  <thead>\n",
       "    <tr style=\"text-align: right;\">\n",
       "      <th></th>\n",
       "      <th>Size</th>\n",
       "      <th>Adj Close</th>\n",
       "      <th>one-day percent change</th>\n",
       "    </tr>\n",
       "  </thead>\n",
       "  <tbody>\n",
       "    <tr>\n",
       "      <th>High+</th>\n",
       "      <td>404</td>\n",
       "      <td>0.607085</td>\n",
       "      <td>0.046111</td>\n",
       "    </tr>\n",
       "    <tr>\n",
       "      <th>High-</th>\n",
       "      <td>351</td>\n",
       "      <td>0.582032</td>\n",
       "      <td>-0.045644</td>\n",
       "    </tr>\n",
       "    <tr>\n",
       "      <th>Low+</th>\n",
       "      <td>850</td>\n",
       "      <td>0.701085</td>\n",
       "      <td>0.009720</td>\n",
       "    </tr>\n",
       "    <tr>\n",
       "      <th>Low-</th>\n",
       "      <td>683</td>\n",
       "      <td>0.687610</td>\n",
       "      <td>-0.012965</td>\n",
       "    </tr>\n",
       "  </tbody>\n",
       "</table>\n",
       "</div>"
      ],
      "text/plain": [
       "       Size  Adj Close  one-day percent change\n",
       "High+   404   0.607085                0.046111\n",
       "High-   351   0.582032               -0.045644\n",
       "Low+    850   0.701085                0.009720\n",
       "Low-    683   0.687610               -0.012965"
      ]
     },
     "execution_count": 30,
     "metadata": {},
     "output_type": "execute_result"
    }
   ],
   "source": [
    "#Test\n",
    "report_decade(df,'198')"
   ]
  }
 ],
 "metadata": {
  "kernelspec": {
   "display_name": "Python 3 (ipykernel)",
   "language": "python",
   "name": "python3"
  },
  "language_info": {
   "codemirror_mode": {
    "name": "ipython",
    "version": 3
   },
   "file_extension": ".py",
   "mimetype": "text/x-python",
   "name": "python",
   "nbconvert_exporter": "python",
   "pygments_lexer": "ipython3",
   "version": "3.9.12"
  },
  "varInspector": {
   "cols": {
    "lenName": 16,
    "lenType": 16,
    "lenVar": 40
   },
   "kernels_config": {
    "python": {
     "delete_cmd_postfix": "",
     "delete_cmd_prefix": "del ",
     "library": "var_list.py",
     "varRefreshCmd": "print(var_dic_list())"
    },
    "r": {
     "delete_cmd_postfix": ") ",
     "delete_cmd_prefix": "rm(",
     "library": "var_list.r",
     "varRefreshCmd": "cat(var_dic_list()) "
    }
   },
   "types_to_exclude": [
    "module",
    "function",
    "builtin_function_or_method",
    "instance",
    "_Feature"
   ],
   "window_display": false
  }
 },
 "nbformat": 4,
 "nbformat_minor": 2
}
